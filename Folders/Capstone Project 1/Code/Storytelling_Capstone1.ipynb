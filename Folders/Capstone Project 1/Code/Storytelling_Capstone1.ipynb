{
 "cells": [
  {
   "cell_type": "markdown",
   "metadata": {},
   "source": [
    " #  Introduction\n",
    " \n",
    " \n",
    "In this kernal I will conduct a regular season analysis on NCAA tournament for seasons 2012 - 2019. I will ask series of question of the data, with the aim of better understanding the dataset provided.\n",
    "The results and answers to these questions will be displayed using packages provided by python. The questions will be :\n",
    "\n",
    "1a. Does a winning team score more points when playing at home, than when playing at either a neutral ground or an away ground?\n",
    "\n",
    "1b. Does a losing team score more points when playing at home, than when playing at either a neutral ground or an away ground?\n",
    "\n",
    "2. Is there a difference between how many matches played at home, away or a neutral location?\n",
    "\n",
    "3. As the season progresses how does the points scored (average) change? and how does it change from season to season?\n",
    "\n",
    "\n",
    "4. Does a team score more points when playing at home, away or a neutral location?\n",
    "\n",
    "5. Does a team score more three pointers when playing at home, away or a neutral location?\n",
    "\n",
    "6. Does a team have more turnovers when playing at home, away or a neutral location?\n",
    "\n",
    "7. Ranking the top 15 teams in a season by the number of points scored in a season\n"
   ]
  },
  {
   "cell_type": "code",
   "execution_count": 923,
   "metadata": {},
   "outputs": [],
   "source": [
    "#Packages imported to be used for analysis\n",
    "\n",
    "import numpy as np\n",
    "import pandas as pd\n",
    "import matplotlib.pyplot as plt\n",
    "import seaborn as sns\n",
    "%matplotlib inline\n",
    "\n",
    "from IPython import display\n",
    "from ipywidgets import interact, widgets\n"
   ]
  },
  {
   "cell_type": "code",
   "execution_count": 924,
   "metadata": {},
   "outputs": [
    {
     "data": {
      "text/plain": [
       "count    87366.000000\n",
       "mean        75.430282\n",
       "std         11.135159\n",
       "min         34.000000\n",
       "25%         68.000000\n",
       "50%         75.000000\n",
       "75%         82.000000\n",
       "max        144.000000\n",
       "Name: WScore, dtype: float64"
      ]
     },
     "execution_count": 924,
     "metadata": {},
     "output_type": "execute_result"
    }
   ],
   "source": [
    "capstone.WScore.describe()"
   ]
  },
  {
   "cell_type": "code",
   "execution_count": 925,
   "metadata": {},
   "outputs": [
    {
     "data": {
      "text/html": [
       "<div>\n",
       "<style scoped>\n",
       "    .dataframe tbody tr th:only-of-type {\n",
       "        vertical-align: middle;\n",
       "    }\n",
       "\n",
       "    .dataframe tbody tr th {\n",
       "        vertical-align: top;\n",
       "    }\n",
       "\n",
       "    .dataframe thead th {\n",
       "        text-align: right;\n",
       "    }\n",
       "</style>\n",
       "<table border=\"1\" class=\"dataframe\">\n",
       "  <thead>\n",
       "    <tr style=\"text-align: right;\">\n",
       "      <th></th>\n",
       "      <th>Season</th>\n",
       "      <th>DayNum</th>\n",
       "      <th>WTeamID</th>\n",
       "      <th>WScore</th>\n",
       "      <th>LTeamID</th>\n",
       "      <th>LScore</th>\n",
       "      <th>WLoc</th>\n",
       "      <th>NumOT</th>\n",
       "      <th>WFGM</th>\n",
       "      <th>WFGA</th>\n",
       "      <th>...</th>\n",
       "      <th>LFTA</th>\n",
       "      <th>LOR</th>\n",
       "      <th>LDR</th>\n",
       "      <th>LAst</th>\n",
       "      <th>LTO</th>\n",
       "      <th>LStl</th>\n",
       "      <th>LBlk</th>\n",
       "      <th>LPF</th>\n",
       "      <th>WTeamName</th>\n",
       "      <th>LTeamName</th>\n",
       "    </tr>\n",
       "  </thead>\n",
       "  <tbody>\n",
       "    <tr>\n",
       "      <td>0</td>\n",
       "      <td>2003</td>\n",
       "      <td>10</td>\n",
       "      <td>1104</td>\n",
       "      <td>68</td>\n",
       "      <td>1328</td>\n",
       "      <td>62</td>\n",
       "      <td>N</td>\n",
       "      <td>0</td>\n",
       "      <td>27</td>\n",
       "      <td>58</td>\n",
       "      <td>...</td>\n",
       "      <td>22</td>\n",
       "      <td>10</td>\n",
       "      <td>22</td>\n",
       "      <td>8</td>\n",
       "      <td>18</td>\n",
       "      <td>9</td>\n",
       "      <td>2</td>\n",
       "      <td>20</td>\n",
       "      <td>alabama</td>\n",
       "      <td>oklahoma</td>\n",
       "    </tr>\n",
       "    <tr>\n",
       "      <td>1</td>\n",
       "      <td>2003</td>\n",
       "      <td>10</td>\n",
       "      <td>1272</td>\n",
       "      <td>70</td>\n",
       "      <td>1393</td>\n",
       "      <td>63</td>\n",
       "      <td>N</td>\n",
       "      <td>0</td>\n",
       "      <td>26</td>\n",
       "      <td>62</td>\n",
       "      <td>...</td>\n",
       "      <td>20</td>\n",
       "      <td>20</td>\n",
       "      <td>25</td>\n",
       "      <td>7</td>\n",
       "      <td>12</td>\n",
       "      <td>8</td>\n",
       "      <td>6</td>\n",
       "      <td>16</td>\n",
       "      <td>memphis</td>\n",
       "      <td>syracuse</td>\n",
       "    </tr>\n",
       "    <tr>\n",
       "      <td>2</td>\n",
       "      <td>2003</td>\n",
       "      <td>11</td>\n",
       "      <td>1266</td>\n",
       "      <td>73</td>\n",
       "      <td>1437</td>\n",
       "      <td>61</td>\n",
       "      <td>N</td>\n",
       "      <td>0</td>\n",
       "      <td>24</td>\n",
       "      <td>58</td>\n",
       "      <td>...</td>\n",
       "      <td>23</td>\n",
       "      <td>31</td>\n",
       "      <td>22</td>\n",
       "      <td>9</td>\n",
       "      <td>12</td>\n",
       "      <td>2</td>\n",
       "      <td>5</td>\n",
       "      <td>23</td>\n",
       "      <td>marquette</td>\n",
       "      <td>villanova</td>\n",
       "    </tr>\n",
       "    <tr>\n",
       "      <td>3</td>\n",
       "      <td>2003</td>\n",
       "      <td>11</td>\n",
       "      <td>1296</td>\n",
       "      <td>56</td>\n",
       "      <td>1457</td>\n",
       "      <td>50</td>\n",
       "      <td>N</td>\n",
       "      <td>0</td>\n",
       "      <td>18</td>\n",
       "      <td>38</td>\n",
       "      <td>...</td>\n",
       "      <td>15</td>\n",
       "      <td>17</td>\n",
       "      <td>20</td>\n",
       "      <td>9</td>\n",
       "      <td>19</td>\n",
       "      <td>4</td>\n",
       "      <td>3</td>\n",
       "      <td>23</td>\n",
       "      <td>northern-illinois</td>\n",
       "      <td>winthrop</td>\n",
       "    </tr>\n",
       "    <tr>\n",
       "      <td>4</td>\n",
       "      <td>2003</td>\n",
       "      <td>11</td>\n",
       "      <td>1400</td>\n",
       "      <td>77</td>\n",
       "      <td>1208</td>\n",
       "      <td>71</td>\n",
       "      <td>N</td>\n",
       "      <td>0</td>\n",
       "      <td>30</td>\n",
       "      <td>61</td>\n",
       "      <td>...</td>\n",
       "      <td>27</td>\n",
       "      <td>21</td>\n",
       "      <td>15</td>\n",
       "      <td>12</td>\n",
       "      <td>10</td>\n",
       "      <td>7</td>\n",
       "      <td>1</td>\n",
       "      <td>14</td>\n",
       "      <td>texas</td>\n",
       "      <td>georgia</td>\n",
       "    </tr>\n",
       "  </tbody>\n",
       "</table>\n",
       "<p>5 rows × 36 columns</p>\n",
       "</div>"
      ],
      "text/plain": [
       "   Season  DayNum  WTeamID  WScore  LTeamID  LScore WLoc  NumOT  WFGM  WFGA  \\\n",
       "0    2003      10     1104      68     1328      62    N      0    27    58   \n",
       "1    2003      10     1272      70     1393      63    N      0    26    62   \n",
       "2    2003      11     1266      73     1437      61    N      0    24    58   \n",
       "3    2003      11     1296      56     1457      50    N      0    18    38   \n",
       "4    2003      11     1400      77     1208      71    N      0    30    61   \n",
       "\n",
       "   ...  LFTA  LOR  LDR  LAst  LTO  LStl  LBlk  LPF          WTeamName  \\\n",
       "0  ...    22   10   22     8   18     9     2   20            alabama   \n",
       "1  ...    20   20   25     7   12     8     6   16            memphis   \n",
       "2  ...    23   31   22     9   12     2     5   23          marquette   \n",
       "3  ...    15   17   20     9   19     4     3   23  northern-illinois   \n",
       "4  ...    27   21   15    12   10     7     1   14              texas   \n",
       "\n",
       "   LTeamName  \n",
       "0   oklahoma  \n",
       "1   syracuse  \n",
       "2  villanova  \n",
       "3   winthrop  \n",
       "4    georgia  \n",
       "\n",
       "[5 rows x 36 columns]"
      ]
     },
     "execution_count": 925,
     "metadata": {},
     "output_type": "execute_result"
    }
   ],
   "source": [
    "capstone.head()"
   ]
  },
  {
   "cell_type": "markdown",
   "metadata": {},
   "source": [
    "## Question 1\n",
    "a. Does a winning team score more points when playing at home than when playing at either a neutral ground or an away ground?"
   ]
  },
  {
   "cell_type": "code",
   "execution_count": 926,
   "metadata": {},
   "outputs": [
    {
     "data": {
      "image/png": "[encoded data removed]",
      "text/plain": [
       "<Figure size 720x504 with 1 Axes>"
      ]
     },
     "metadata": {
      "needs_background": "light"
     },
     "output_type": "display_data"
    }
   ],
   "source": [
    "capstone= pd.read_csv(\"mens-machine-learning-competition-2019/Prelim2019_RegularSeasonDetailedResults.csv\")\n",
    "cap = pd.read_csv(\"mens-machine-learning-competition-2019/TeamSpellings.csv\",encoding =\"latin\")\n",
    "fig,ax1 = plt.subplots(1,1)\n",
    "fig.set_size_inches(10,7)\n",
    "\n",
    "capstone_plot= sns.boxplot(data = capstone, x= 'WLoc',y ='WScore')\n",
    "\n",
    "ax1.set_title(\"Points Distribution\")\n",
    "ax1.set_xticklabels(['Neutral Ground',\"Home Ground\",\"Away Ground\" ])\n",
    "ax1.set_ylabel('Points Made by Winning team')\n",
    "plt.show()"
   ]
  },
  {
   "cell_type": "markdown",
   "metadata": {},
   "source": [
    "## Conclusion\n",
    "The average number of points for the winning team at the home ground is larger than the away and the neutral grounds. "
   ]
  },
  {
   "cell_type": "markdown",
   "metadata": {},
   "source": [
    "## Question 1\n",
    "b. Does a losing team score more points when playing at home than when playing at either a neutral ground or an away ground?"
   ]
  },
  {
   "cell_type": "code",
   "execution_count": 927,
   "metadata": {},
   "outputs": [
    {
     "data": {
      "image/png": "[encoded data removed]",
      "text/plain": [
       "<Figure size 720x504 with 1 Axes>"
      ]
     },
     "metadata": {
      "needs_background": "light"
     },
     "output_type": "display_data"
    }
   ],
   "source": [
    "capstone= pd.read_csv(\"mens-machine-learning-competition-2019/Prelim2019_RegularSeasonDetailedResults.csv\")\n",
    "cap = pd.read_csv(\"mens-machine-learning-competition-2019/TeamSpellings.csv\",encoding =\"latin\")\n",
    "fig,ax1 = plt.subplots(1,1)\n",
    "fig.set_size_inches(10,7)\n",
    "\n",
    "capstone_plot= sns.boxplot(data = capstone, x= 'WLoc',y ='LScore')\n",
    "\n",
    "ax1.set_title(\"Points Distribution\")\n",
    "ax1.set_xticklabels(['Neutral Ground',\"Home Ground\",\"Away Ground\" ])\n",
    "ax1.set_ylabel('Points Made by Losing team')\n",
    "plt.show()"
   ]
  },
  {
   "cell_type": "markdown",
   "metadata": {},
   "source": [
    "There seems to be no difference to the average number of points scored by the losing team when playing in either of the neutral, home or away locations. "
   ]
  },
  {
   "cell_type": "markdown",
   "metadata": {},
   "source": [
    "## Question 2\n",
    "\n",
    "2. What is the difference between matches played either home, away or a neutral location?"
   ]
  },
  {
   "cell_type": "code",
   "execution_count": 928,
   "metadata": {},
   "outputs": [
    {
     "data": {
      "text/html": [
       "<div>\n",
       "<style scoped>\n",
       "    .dataframe tbody tr th:only-of-type {\n",
       "        vertical-align: middle;\n",
       "    }\n",
       "\n",
       "    .dataframe tbody tr th {\n",
       "        vertical-align: top;\n",
       "    }\n",
       "\n",
       "    .dataframe thead th {\n",
       "        text-align: right;\n",
       "    }\n",
       "</style>\n",
       "<table border=\"1\" class=\"dataframe\">\n",
       "  <thead>\n",
       "    <tr style=\"text-align: right;\">\n",
       "      <th></th>\n",
       "      <th>WLoc</th>\n",
       "    </tr>\n",
       "  </thead>\n",
       "  <tbody>\n",
       "    <tr>\n",
       "      <td>H</td>\n",
       "      <td>0.593148</td>\n",
       "    </tr>\n",
       "    <tr>\n",
       "      <td>A</td>\n",
       "      <td>0.306263</td>\n",
       "    </tr>\n",
       "    <tr>\n",
       "      <td>N</td>\n",
       "      <td>0.100588</td>\n",
       "    </tr>\n",
       "  </tbody>\n",
       "</table>\n",
       "</div>"
      ],
      "text/plain": [
       "       WLoc\n",
       "H  0.593148\n",
       "A  0.306263\n",
       "N  0.100588"
      ]
     },
     "execution_count": 928,
     "metadata": {},
     "output_type": "execute_result"
    }
   ],
   "source": [
    "pd.DataFrame(capstone.WLoc.value_counts(normalize=True))"
   ]
  },
  {
   "cell_type": "code",
   "execution_count": 929,
   "metadata": {},
   "outputs": [],
   "source": [
    "groupHome= capstone.groupby(\"Season\").WLoc.value_counts(normalize=True)"
   ]
  },
  {
   "cell_type": "code",
   "execution_count": 930,
   "metadata": {},
   "outputs": [
    {
     "data": {
      "text/plain": [
       "<matplotlib.axes._subplots.AxesSubplot at 0x1a69fea990>"
      ]
     },
     "execution_count": 930,
     "metadata": {},
     "output_type": "execute_result"
    },
    {
     "data": {
      "image/png": "[encoded data removed]",
      "text/plain": [
       "<Figure size 432x288 with 1 Axes>"
      ]
     },
     "metadata": {
      "needs_background": "light"
     },
     "output_type": "display_data"
    }
   ],
   "source": [
    "groupHome.unstack().plot(kind='bar',stacked=True)\n"
   ]
  },
  {
   "cell_type": "markdown",
   "metadata": {},
   "source": [
    "## Conclusion\n",
    "The proportion of all games played at home, away and in a neutral ground were all similar across all seasons.The graphs also show that more matches were played at home than at away and neutral locations in a given season."
   ]
  },
  {
   "cell_type": "markdown",
   "metadata": {},
   "source": [
    "## Question 3\n",
    "3. As the season progresses how does the points scored (average) change? and how does it change from season to season?"
   ]
  },
  {
   "cell_type": "code",
   "execution_count": 931,
   "metadata": {},
   "outputs": [],
   "source": [
    "# The first thing to do is to associate TeamID to the name of the team. This will help us put a name to the team\n",
    "dic = {}\n",
    "for i in range(0,len(cap[\"TeamID\"])):\n",
    "    dic[cap[\"TeamID\"][i]]=cap['TeamNameSpelling'][i]\n",
    "capstone[\"WTeamName\"]=[dic[teamid] for teamid in capstone['WTeamID']]\n",
    "capstone[\"LTeamName\"]=[dic[teamid] for teamid in capstone['LTeamID']]"
   ]
  },
  {
   "cell_type": "code",
   "execution_count": 932,
   "metadata": {},
   "outputs": [
    {
     "data": {
      "text/html": [
       "<div>\n",
       "<style scoped>\n",
       "    .dataframe tbody tr th:only-of-type {\n",
       "        vertical-align: middle;\n",
       "    }\n",
       "\n",
       "    .dataframe tbody tr th {\n",
       "        vertical-align: top;\n",
       "    }\n",
       "\n",
       "    .dataframe thead th {\n",
       "        text-align: right;\n",
       "    }\n",
       "</style>\n",
       "<table border=\"1\" class=\"dataframe\">\n",
       "  <thead>\n",
       "    <tr style=\"text-align: right;\">\n",
       "      <th></th>\n",
       "      <th>Season</th>\n",
       "      <th>DayNum</th>\n",
       "      <th>WTeamID</th>\n",
       "      <th>WScore</th>\n",
       "      <th>LTeamID</th>\n",
       "      <th>LScore</th>\n",
       "      <th>WLoc</th>\n",
       "      <th>NumOT</th>\n",
       "      <th>WFGM</th>\n",
       "      <th>WFGA</th>\n",
       "      <th>...</th>\n",
       "      <th>LFTA</th>\n",
       "      <th>LOR</th>\n",
       "      <th>LDR</th>\n",
       "      <th>LAst</th>\n",
       "      <th>LTO</th>\n",
       "      <th>LStl</th>\n",
       "      <th>LBlk</th>\n",
       "      <th>LPF</th>\n",
       "      <th>WTeamName</th>\n",
       "      <th>LTeamName</th>\n",
       "    </tr>\n",
       "  </thead>\n",
       "  <tbody>\n",
       "    <tr>\n",
       "      <td>0</td>\n",
       "      <td>2003</td>\n",
       "      <td>10</td>\n",
       "      <td>1104</td>\n",
       "      <td>68</td>\n",
       "      <td>1328</td>\n",
       "      <td>62</td>\n",
       "      <td>N</td>\n",
       "      <td>0</td>\n",
       "      <td>27</td>\n",
       "      <td>58</td>\n",
       "      <td>...</td>\n",
       "      <td>22</td>\n",
       "      <td>10</td>\n",
       "      <td>22</td>\n",
       "      <td>8</td>\n",
       "      <td>18</td>\n",
       "      <td>9</td>\n",
       "      <td>2</td>\n",
       "      <td>20</td>\n",
       "      <td>alabama</td>\n",
       "      <td>oklahoma</td>\n",
       "    </tr>\n",
       "    <tr>\n",
       "      <td>1</td>\n",
       "      <td>2003</td>\n",
       "      <td>10</td>\n",
       "      <td>1272</td>\n",
       "      <td>70</td>\n",
       "      <td>1393</td>\n",
       "      <td>63</td>\n",
       "      <td>N</td>\n",
       "      <td>0</td>\n",
       "      <td>26</td>\n",
       "      <td>62</td>\n",
       "      <td>...</td>\n",
       "      <td>20</td>\n",
       "      <td>20</td>\n",
       "      <td>25</td>\n",
       "      <td>7</td>\n",
       "      <td>12</td>\n",
       "      <td>8</td>\n",
       "      <td>6</td>\n",
       "      <td>16</td>\n",
       "      <td>memphis</td>\n",
       "      <td>syracuse</td>\n",
       "    </tr>\n",
       "    <tr>\n",
       "      <td>2</td>\n",
       "      <td>2003</td>\n",
       "      <td>11</td>\n",
       "      <td>1266</td>\n",
       "      <td>73</td>\n",
       "      <td>1437</td>\n",
       "      <td>61</td>\n",
       "      <td>N</td>\n",
       "      <td>0</td>\n",
       "      <td>24</td>\n",
       "      <td>58</td>\n",
       "      <td>...</td>\n",
       "      <td>23</td>\n",
       "      <td>31</td>\n",
       "      <td>22</td>\n",
       "      <td>9</td>\n",
       "      <td>12</td>\n",
       "      <td>2</td>\n",
       "      <td>5</td>\n",
       "      <td>23</td>\n",
       "      <td>marquette</td>\n",
       "      <td>villanova</td>\n",
       "    </tr>\n",
       "    <tr>\n",
       "      <td>3</td>\n",
       "      <td>2003</td>\n",
       "      <td>11</td>\n",
       "      <td>1296</td>\n",
       "      <td>56</td>\n",
       "      <td>1457</td>\n",
       "      <td>50</td>\n",
       "      <td>N</td>\n",
       "      <td>0</td>\n",
       "      <td>18</td>\n",
       "      <td>38</td>\n",
       "      <td>...</td>\n",
       "      <td>15</td>\n",
       "      <td>17</td>\n",
       "      <td>20</td>\n",
       "      <td>9</td>\n",
       "      <td>19</td>\n",
       "      <td>4</td>\n",
       "      <td>3</td>\n",
       "      <td>23</td>\n",
       "      <td>northern-illinois</td>\n",
       "      <td>winthrop</td>\n",
       "    </tr>\n",
       "    <tr>\n",
       "      <td>4</td>\n",
       "      <td>2003</td>\n",
       "      <td>11</td>\n",
       "      <td>1400</td>\n",
       "      <td>77</td>\n",
       "      <td>1208</td>\n",
       "      <td>71</td>\n",
       "      <td>N</td>\n",
       "      <td>0</td>\n",
       "      <td>30</td>\n",
       "      <td>61</td>\n",
       "      <td>...</td>\n",
       "      <td>27</td>\n",
       "      <td>21</td>\n",
       "      <td>15</td>\n",
       "      <td>12</td>\n",
       "      <td>10</td>\n",
       "      <td>7</td>\n",
       "      <td>1</td>\n",
       "      <td>14</td>\n",
       "      <td>texas</td>\n",
       "      <td>georgia</td>\n",
       "    </tr>\n",
       "  </tbody>\n",
       "</table>\n",
       "<p>5 rows × 36 columns</p>\n",
       "</div>"
      ],
      "text/plain": [
       "   Season  DayNum  WTeamID  WScore  LTeamID  LScore WLoc  NumOT  WFGM  WFGA  \\\n",
       "0    2003      10     1104      68     1328      62    N      0    27    58   \n",
       "1    2003      10     1272      70     1393      63    N      0    26    62   \n",
       "2    2003      11     1266      73     1437      61    N      0    24    58   \n",
       "3    2003      11     1296      56     1457      50    N      0    18    38   \n",
       "4    2003      11     1400      77     1208      71    N      0    30    61   \n",
       "\n",
       "   ...  LFTA  LOR  LDR  LAst  LTO  LStl  LBlk  LPF          WTeamName  \\\n",
       "0  ...    22   10   22     8   18     9     2   20            alabama   \n",
       "1  ...    20   20   25     7   12     8     6   16            memphis   \n",
       "2  ...    23   31   22     9   12     2     5   23          marquette   \n",
       "3  ...    15   17   20     9   19     4     3   23  northern-illinois   \n",
       "4  ...    27   21   15    12   10     7     1   14              texas   \n",
       "\n",
       "   LTeamName  \n",
       "0   oklahoma  \n",
       "1   syracuse  \n",
       "2  villanova  \n",
       "3   winthrop  \n",
       "4    georgia  \n",
       "\n",
       "[5 rows x 36 columns]"
      ]
     },
     "execution_count": 932,
     "metadata": {},
     "output_type": "execute_result"
    }
   ],
   "source": [
    "capstone.head()"
   ]
  },
  {
   "cell_type": "code",
   "execution_count": 933,
   "metadata": {},
   "outputs": [],
   "source": [
    "AvgPoint=capstone.groupby(\"DayNum\").WScore.mean()"
   ]
  },
  {
   "cell_type": "code",
   "execution_count": 934,
   "metadata": {},
   "outputs": [],
   "source": [
    "def plotyear(Season):\n",
    "    Avg=pd.DataFrame(capstone[capstone.Season == Season].groupby(\"DayNum\").WScore.mean().reset_index())\n",
    "    Avg.plot.scatter('DayNum','WScore',\n",
    "                      \n",
    "                      linewidths=1,edgecolors='k',\n",
    "                      figsize=(12,9))\n",
    "    \n",
    "    plt.axis(ymin=50,ymax=100,xmin=0,xmax=150)\n",
    "    plt.xlabel('Progression of Season')\n",
    "    plt.ylabel('Points Scored')"
   ]
  },
  {
   "cell_type": "code",
   "execution_count": 935,
   "metadata": {},
   "outputs": [
    {
     "data": {
      "text/html": [
       "<div>\n",
       "<style scoped>\n",
       "    .dataframe tbody tr th:only-of-type {\n",
       "        vertical-align: middle;\n",
       "    }\n",
       "\n",
       "    .dataframe tbody tr th {\n",
       "        vertical-align: top;\n",
       "    }\n",
       "\n",
       "    .dataframe thead th {\n",
       "        text-align: right;\n",
       "    }\n",
       "</style>\n",
       "<table border=\"1\" class=\"dataframe\">\n",
       "  <thead>\n",
       "    <tr style=\"text-align: right;\">\n",
       "      <th></th>\n",
       "      <th>DayNum</th>\n",
       "      <th>WScore</th>\n",
       "    </tr>\n",
       "  </thead>\n",
       "  <tbody>\n",
       "    <tr>\n",
       "      <td>0</td>\n",
       "      <td>10</td>\n",
       "      <td>69.000000</td>\n",
       "    </tr>\n",
       "    <tr>\n",
       "      <td>1</td>\n",
       "      <td>11</td>\n",
       "      <td>71.750000</td>\n",
       "    </tr>\n",
       "    <tr>\n",
       "      <td>2</td>\n",
       "      <td>12</td>\n",
       "      <td>77.500000</td>\n",
       "    </tr>\n",
       "    <tr>\n",
       "      <td>3</td>\n",
       "      <td>13</td>\n",
       "      <td>80.500000</td>\n",
       "    </tr>\n",
       "    <tr>\n",
       "      <td>4</td>\n",
       "      <td>14</td>\n",
       "      <td>76.181818</td>\n",
       "    </tr>\n",
       "    <tr>\n",
       "      <td>...</td>\n",
       "      <td>...</td>\n",
       "      <td>...</td>\n",
       "    </tr>\n",
       "    <tr>\n",
       "      <td>115</td>\n",
       "      <td>128</td>\n",
       "      <td>69.928571</td>\n",
       "    </tr>\n",
       "    <tr>\n",
       "      <td>116</td>\n",
       "      <td>129</td>\n",
       "      <td>73.066667</td>\n",
       "    </tr>\n",
       "    <tr>\n",
       "      <td>117</td>\n",
       "      <td>130</td>\n",
       "      <td>73.000000</td>\n",
       "    </tr>\n",
       "    <tr>\n",
       "      <td>118</td>\n",
       "      <td>131</td>\n",
       "      <td>71.842105</td>\n",
       "    </tr>\n",
       "    <tr>\n",
       "      <td>119</td>\n",
       "      <td>132</td>\n",
       "      <td>67.250000</td>\n",
       "    </tr>\n",
       "  </tbody>\n",
       "</table>\n",
       "<p>120 rows × 2 columns</p>\n",
       "</div>"
      ],
      "text/plain": [
       "     DayNum     WScore\n",
       "0        10  69.000000\n",
       "1        11  71.750000\n",
       "2        12  77.500000\n",
       "3        13  80.500000\n",
       "4        14  76.181818\n",
       "..      ...        ...\n",
       "115     128  69.928571\n",
       "116     129  73.066667\n",
       "117     130  73.000000\n",
       "118     131  71.842105\n",
       "119     132  67.250000\n",
       "\n",
       "[120 rows x 2 columns]"
      ]
     },
     "execution_count": 935,
     "metadata": {},
     "output_type": "execute_result"
    }
   ],
   "source": [
    "pd.DataFrame(capstone[capstone.Season == 2003].groupby(\"DayNum\").WScore.mean()).reset_index()"
   ]
  },
  {
   "cell_type": "code",
   "execution_count": 936,
   "metadata": {},
   "outputs": [
    {
     "data": {
      "application/vnd.jupyter.widget-view+json": {
       "model_id": "dd1d03600a164226a3c0361c1dfd48b0",
       "version_major": 2,
       "version_minor": 0
      },
      "text/plain": [
       "interactive(children=(IntSlider(value=2003, description='Season', max=2019, min=2003), Output()), _dom_classes…"
      ]
     },
     "metadata": {},
     "output_type": "display_data"
    },
    {
     "data": {
      "text/plain": [
       "<function __main__.plotyear(Season)>"
      ]
     },
     "execution_count": 936,
     "metadata": {},
     "output_type": "execute_result"
    }
   ],
   "source": [
    "interact(plotyear,Season=widgets.IntSlider(min=2003,max=2019,step=1,value=2003))"
   ]
  },
  {
   "cell_type": "markdown",
   "metadata": {},
   "source": [
    "## Conclusion\n",
    "\n",
    "The general trend is that as the season progresses the points scored tends to decrease. This pattern is generally the same across all seasons"
   ]
  },
  {
   "cell_type": "markdown",
   "metadata": {},
   "source": [
    "## Question 4 \n",
    "\n",
    "4. What is the variation in the points scored per season? This is given the fact that a team is playing at home, away or a neutral location."
   ]
  },
  {
   "cell_type": "code",
   "execution_count": 937,
   "metadata": {},
   "outputs": [],
   "source": [
    "Home = capstone[capstone.WLoc == 'H']\n",
    "Away = capstone[capstone.WLoc == 'A']\n",
    "Neutral = capstone[capstone.WLoc == 'N']"
   ]
  },
  {
   "cell_type": "code",
   "execution_count": 938,
   "metadata": {},
   "outputs": [],
   "source": [
    "AvgH=Home.groupby(\"Season\").WScore.mean()\n",
    "\n",
    "AvgA=Away.groupby(\"Season\").WScore.mean()\n",
    "\n",
    "AvgN=Neutral.groupby(\"Season\").WScore.mean()"
   ]
  },
  {
   "cell_type": "code",
   "execution_count": 939,
   "metadata": {},
   "outputs": [
    {
     "data": {
      "image/png": "[encoded data removed]",
      "text/plain": [
       "<Figure size 432x288 with 1 Axes>"
      ]
     },
     "metadata": {
      "needs_background": "light"
     },
     "output_type": "display_data"
    }
   ],
   "source": [
    "A=plt.plot(AvgH.index,AvgH)\n",
    "B=plt.plot(AvgA.index,AvgA)\n",
    "C=plt.plot(AvgN.index,AvgN)\n",
    "\n",
    "\n",
    "plt.xlabel('Season Progression')\n",
    "plt.ylabel('Points Scored per Season')\n",
    "plt.title(' Points Scored per team', size=20)\n",
    "plt.legend([\"Home\", \"Away\",\"Neutral\"],loc=0)\n",
    "plt.show()\n"
   ]
  },
  {
   "cell_type": "markdown",
   "metadata": {},
   "source": [
    "## Conclusion\n",
    "For most seasons the number of points scored by the winning team while playing at home is greater than points scored when playing at an away or a neutral location."
   ]
  },
  {
   "cell_type": "markdown",
   "metadata": {},
   "source": [
    "## Question 5\n",
    "\n",
    "5. Does a team score more three-pointers when playing at home, away or a neutral location?"
   ]
  },
  {
   "cell_type": "code",
   "execution_count": 940,
   "metadata": {},
   "outputs": [],
   "source": [
    "AvgH3=Home.groupby(\"Season\").WFGM3.mean()\n",
    "\n",
    "AvgA3=Away.groupby(\"Season\").WFGM3.mean()\n",
    "\n",
    "AvgN3=Neutral.groupby(\"Season\").WFGM3.mean()"
   ]
  },
  {
   "cell_type": "code",
   "execution_count": 941,
   "metadata": {},
   "outputs": [
    {
     "data": {
      "image/png": "[encoded data removed]",
      "text/plain": [
       "<Figure size 432x288 with 1 Axes>"
      ]
     },
     "metadata": {
      "needs_background": "light"
     },
     "output_type": "display_data"
    }
   ],
   "source": [
    "A3=plt.plot(AvgH3.index,AvgH3)\n",
    "B3=plt.plot(AvgA3.index,AvgA3)\n",
    "C3=plt.plot(AvgN3.index,AvgN3)\n",
    "\n",
    "\n",
    "plt.xlabel('Season Progression')\n",
    "plt.ylabel('Three Points Scored per Season')\n",
    "plt.title('Three Points Scored per team', size=20)\n",
    "plt.legend([\"Home\", \"Away\",\"Neutral\"],loc=0)\n",
    "plt.show()"
   ]
  },
  {
   "cell_type": "markdown",
   "metadata": {},
   "source": [
    "## Conclusion\n",
    "\n",
    "For most seasons the number of three-pointers scored by the winning team while playing at home is greater than three pointers scored when playing at an away, or a neutral location."
   ]
  },
  {
   "cell_type": "markdown",
   "metadata": {},
   "source": [
    "## Question 6\n",
    "6. Does a team commit more turnovers at home than away"
   ]
  },
  {
   "cell_type": "code",
   "execution_count": 942,
   "metadata": {},
   "outputs": [],
   "source": [
    "AvgHTO=Home.groupby(\"Season\").WTO.mean()\n",
    "\n",
    "AvgATO=Away.groupby(\"Season\").WTO.mean()\n",
    "\n",
    "AvgNTO=Neutral.groupby(\"Season\").WTO.mean()"
   ]
  },
  {
   "cell_type": "code",
   "execution_count": 943,
   "metadata": {},
   "outputs": [
    {
     "data": {
      "image/png": "[encoded data removed]",
      "text/plain": [
       "<Figure size 432x288 with 1 Axes>"
      ]
     },
     "metadata": {
      "needs_background": "light"
     },
     "output_type": "display_data"
    }
   ],
   "source": [
    "ATO=plt.plot(AvgHTO.index,AvgHTO)\n",
    "BTO=plt.plot(AvgATO.index,AvgATO)\n",
    "CTO=plt.plot(AvgNTO.index,AvgNTO)\n",
    "\n",
    "\n",
    "plt.xlabel('Season Progression')\n",
    "plt.ylabel('Turnover per Season')\n",
    "plt.title(' Turnover per team', size=20)\n",
    "plt.legend([\"Home\", \"Away\",\"Neutral\"],loc=0)\n",
    "plt.show()"
   ]
  },
  {
   "cell_type": "markdown",
   "metadata": {},
   "source": [
    "##  Conclusion\n",
    "\n",
    "For all seasons the number of turnovers conceeded while playing at an away location is greater than turnovers conceeded when playing at an home or a neutral location."
   ]
  },
  {
   "cell_type": "markdown",
   "metadata": {},
   "source": [
    "## Question 7\n",
    "\n",
    "7. Ranking the top 15 teams by the  no. of points scored in a season"
   ]
  },
  {
   "cell_type": "code",
   "execution_count": 947,
   "metadata": {},
   "outputs": [],
   "source": [
    "Teams =capstone[\"WTeamName\"].unique()\n",
    "for year in range(2003,2019):\n",
    "    points_dict  = {team:0 for team in Teams}\n",
    "    results = capstone[capstone[\"Season\"]==year]\n",
    "    results.reset_index()\n",
    "    for i in range(0,len(results)):\n",
    "        points_dict[capstone['WTeamName'][i]] += capstone[\"WScore\"][i]\n",
    "        points_dict[capstone['LTeamName'][i]] += capstone[\"LScore\"][i]\n",
    "        "
   ]
  },
  {
   "cell_type": "code",
   "execution_count": 962,
   "metadata": {},
   "outputs": [
    {
     "data": {
      "text/plain": [
       "{1: 'utah-valley-state',\n",
       " 2: 'uc-davis',\n",
       " 3: 'longwood',\n",
       " 4: 'northern-colorado',\n",
       " 5: 'south-dakota-state',\n",
       " 6: 'kennesaw-state',\n",
       " 7: 'north-dakota-state',\n",
       " 8: 'north-florida',\n",
       " 9: 'njit',\n",
       " 10: 'central-arkansas',\n",
       " 11: 'winston-salem-state',\n",
       " 12: 'florida-gulf-coast',\n",
       " 13: 'csu-bakersfield',\n",
       " 14: 'north-carolina-central',\n",
       " 15: 'presbyterian',\n",
       " 16: 'usc-upstate',\n",
       " 17: 'houston-baptist',\n",
       " 18: 'north-dakota',\n",
       " 19: 'southern-illinois-edwardsville',\n",
       " 20: 'bryant university',\n",
       " 21: 'seattle-u',\n",
       " 22: 'south-dakota',\n",
       " 23: 'omaha',\n",
       " 24: 'northern-ky',\n",
       " 25: 'grand-canyon',\n",
       " 26: 'umass-lowell',\n",
       " 27: 'incarnate-word',\n",
       " 28: 'abilene-christian',\n",
       " 29: 'california baptist',\n",
       " 30: 'north alabama',\n",
       " 31: 'morris-brown',\n",
       " 32: 'nicholls-state',\n",
       " 33: 'army-west-point',\n",
       " 34: 'columbia',\n",
       " 35: 'portland-state',\n",
       " 36: 'dartmouth',\n",
       " 37: 'the-citadel',\n",
       " 38: 'miami-ohio',\n",
       " 39: 'ark-pine-bluff',\n",
       " 40: 'north-carolina-at',\n",
       " 41: 'uc-riverside',\n",
       " 42: 'southeastern-louisiana',\n",
       " 43: 'east-carolina',\n",
       " 44: 'umes',\n",
       " 45: 'navy',\n",
       " 46: 'elon university',\n",
       " 47: 'charleston-southern',\n",
       " 48: 'long-beach-state',\n",
       " 49: 'houston',\n",
       " 50: 'towson',\n",
       " 51: 'stony-brook',\n",
       " 52: 'utrgv',\n",
       " 53: 'ut-arlington',\n",
       " 54: 'air-force',\n",
       " 55: 'lamar-university',\n",
       " 56: 'san-jose-state',\n",
       " 57: 'cornell',\n",
       " 58: 'vmi',\n",
       " 59: 'delaware-state',\n",
       " 60: 'samford',\n",
       " 61: 'bucknell',\n",
       " 62: 'savannah-state',\n",
       " 63: 'western-carolina',\n",
       " 64: 'southern-utah',\n",
       " 65: 'montana-state',\n",
       " 66: 'bowling-green-state',\n",
       " 67: 'campbell',\n",
       " 68: 'louisiana-tech',\n",
       " 69: 'stetson',\n",
       " 70: 'northwestern-state',\n",
       " 71: 'tennessee-state',\n",
       " 72: 'north-texas',\n",
       " 73: 'hartford',\n",
       " 74: 'umbc',\n",
       " 75: 'wright-state',\n",
       " 76: 'alabama-state',\n",
       " 77: 'youngstown-state',\n",
       " 78: 'loyola-md',\n",
       " 79: 'idaho',\n",
       " 80: 'south-alabama',\n",
       " 81: 'florida-international',\n",
       " 82: 'princeton',\n",
       " 83: 'centenary-la',\n",
       " 84: 'utsa',\n",
       " 85: 'birmingham-southern',\n",
       " 86: 'lehigh',\n",
       " 87: 'jacksonville',\n",
       " 88: 'eastern-ky',\n",
       " 89: 'drake',\n",
       " 90: 'bethune-cookman',\n",
       " 91: 'indiana-state',\n",
       " 92: 'robert-morris',\n",
       " 93: 'wofford',\n",
       " 94: 'central-conn-st',\n",
       " 95: 'mcneese-state',\n",
       " 96: 'alabama-am',\n",
       " 97: 'boise-state',\n",
       " 98: 'albany-ny',\n",
       " 99: 'new-orleans',\n",
       " 100: 'coastal-carolina',\n",
       " 101: 'penn-state',\n",
       " 102: 'furman',\n",
       " 103: 'southern-university',\n",
       " 104: 'sacramento-state',\n",
       " 105: 'norfolk-state',\n",
       " 106: 'florida-atlantic',\n",
       " 107: 'st louis',\n",
       " 108: 'mtsu',\n",
       " 109: 'santa-clara',\n",
       " 110: 'utep',\n",
       " 111: 'austin-peay',\n",
       " 112: 'western-illinois',\n",
       " 113: 'umass',\n",
       " 114: 'mt-st-marys',\n",
       " 115: 'old-dominion',\n",
       " 116: 'colgate',\n",
       " 117: 'new-mexico',\n",
       " 118: 'lipscomb',\n",
       " 119: 'coppin-state',\n",
       " 120: 'lafayette',\n",
       " 121: 'arkansas-state',\n",
       " 122: 'fordham',\n",
       " 123: 'sam-houston-state',\n",
       " 124: 'rutgers',\n",
       " 125: 'davidson',\n",
       " 126: 'jackson-state',\n",
       " 127: 'uni',\n",
       " 128: 'utah-state',\n",
       " 129: 'stephen-f-austin',\n",
       " 130: 'illinois-state',\n",
       " 131: 'arkansas',\n",
       " 132: 'morgan-state',\n",
       " 133: 'high-point',\n",
       " 134: 'monmouth-nj',\n",
       " 135: 'grambling-state',\n",
       " 136: 'seton-hall',\n",
       " 137: 'tennessee',\n",
       " 138: 'oregon-state',\n",
       " 139: 'pacific',\n",
       " 140: 'nebraska',\n",
       " 141: 'washington-state',\n",
       " 142: 'chicago-state',\n",
       " 143: 'northern-arizona',\n",
       " 144: 'cleveland-state',\n",
       " 145: \"hawai'i\",\n",
       " 146: 'fresno-state',\n",
       " 147: 'evansville',\n",
       " 148: 'ut-martin',\n",
       " 149: 'cincinnati',\n",
       " 150: 'western-michigan',\n",
       " 151: 'wisconsin-green-bay',\n",
       " 152: 'csun',\n",
       " 153: 'binghamton',\n",
       " 154: 'harvard',\n",
       " 155: 'buffalo',\n",
       " 156: 'butler',\n",
       " 157: 'south-florida',\n",
       " 158: 'yale',\n",
       " 159: 'ull',\n",
       " 160: 'texas-state',\n",
       " 161: 'william--mary',\n",
       " 162: 'new-hampshire',\n",
       " 163: 'liberty',\n",
       " 164: 'rider',\n",
       " 165: 'ole-miss',\n",
       " 166: 'ucsb',\n",
       " 167: 'idaho-state',\n",
       " 168: 'st-francis-pa',\n",
       " 169: 'gardner-webb',\n",
       " 170: 'new-mexico-state',\n",
       " 171: 'baylor',\n",
       " 172: 'duquesne',\n",
       " 173: 'hofstra',\n",
       " 174: 'st-marys-ca',\n",
       " 175: 'northwestern',\n",
       " 176: 'james-madison',\n",
       " 177: 'vermont',\n",
       " 178: 'maine',\n",
       " 179: 'portland',\n",
       " 180: 'george-mason',\n",
       " 181: 'ulm',\n",
       " 182: 'cs fullerton',\n",
       " 183: 'holy-cross',\n",
       " 184: 'winthrop',\n",
       " 185: 'pennsylvania',\n",
       " 186: 'iowa-state',\n",
       " 187: 'southern-mississippi',\n",
       " 188: 'detroit-mercy',\n",
       " 189: 'cal-poly',\n",
       " 190: 'georgia-southern',\n",
       " 191: 'uncg',\n",
       " 192: 'clemson',\n",
       " 193: 'temple',\n",
       " 194: 'prairie-view-am',\n",
       " 195: 'richmond',\n",
       " 196: 'west-virginia',\n",
       " 197: 'uc-irvine',\n",
       " 198: 'montana',\n",
       " 199: 'purdue fort wayne',\n",
       " 200: 'georgia-state',\n",
       " 201: 'ualr',\n",
       " 202: 'depaul',\n",
       " 203: 'toledo',\n",
       " 204: 'canisius',\n",
       " 205: 'sd state',\n",
       " 206: 'texas-am-corpus-christi',\n",
       " 207: 'mvsu(miss. valley st',\n",
       " 208: 'sacred-heart',\n",
       " 209: 'eastern-michigan',\n",
       " 210: 'radford',\n",
       " 211: 'fairleigh-dickinson',\n",
       " 212: 'drexel',\n",
       " 213: 'umkc',\n",
       " 214: 'rice',\n",
       " 215: 'washington',\n",
       " 216: 'la-salle',\n",
       " 217: 'alabama',\n",
       " 218: 'morehead-state',\n",
       " 219: 'marshall',\n",
       " 220: 'delaware',\n",
       " 221: 'valparaiso',\n",
       " 222: 'southeast-mo-st',\n",
       " 223: 'murray-state',\n",
       " 224: 'ohio-state',\n",
       " 225: 'unc-asheville',\n",
       " 226: 'ucla',\n",
       " 227: 'wisconsin',\n",
       " 228: 'ball-state',\n",
       " 229: 'tennessee-tech',\n",
       " 230: 'virginia-commonwealth',\n",
       " 231: 'eastern-illinois',\n",
       " 232: 'utah',\n",
       " 233: 'oklahoma-state',\n",
       " 234: 'vanderbilt',\n",
       " 235: 'miami-florida',\n",
       " 236: 'eastern-washington',\n",
       " 237: 'st-johns-ny',\n",
       " 238: 'south-carolina-state',\n",
       " 239: 'texas-am',\n",
       " 240: 'jacksonville-state',\n",
       " 241: 'quinnipiac',\n",
       " 242: 'florida-am',\n",
       " 243: 'michigan',\n",
       " 244: 'brown',\n",
       " 245: 'belmont',\n",
       " 246: 'boston-university',\n",
       " 247: 'kent-state',\n",
       " 248: 'st-peters',\n",
       " 249: 'south-carolina',\n",
       " 250: 'tx southern',\n",
       " 251: 'purdue',\n",
       " 252: 'akron',\n",
       " 253: 'weber-state',\n",
       " 254: 'florida-state',\n",
       " 255: 'american-university',\n",
       " 256: 'san-francisco',\n",
       " 257: 'southern-methodist',\n",
       " 258: 'missouri',\n",
       " 259: 'long-island-university',\n",
       " 260: 'loyola-il',\n",
       " 261: 'wichita-state',\n",
       " 262: 'fairfield',\n",
       " 263: 'virginia-tech',\n",
       " 264: 'providence',\n",
       " 265: 'marist',\n",
       " 266: 'uncw',\n",
       " 267: 'ucf',\n",
       " 268: 'iowa',\n",
       " 269: 'kansas-state',\n",
       " 270: 'northern-illinois',\n",
       " 271: 'tennessee-chattanooga',\n",
       " 272: 'st-josephs-pa',\n",
       " 273: 'northeastern',\n",
       " 274: 'rhode-island',\n",
       " 275: 'col-of-charleston',\n",
       " 276: 'sw missouri st.',\n",
       " 277: 'manhattan',\n",
       " 278: 'loyola-marymount',\n",
       " 279: 'villanova',\n",
       " 280: 'etsu',\n",
       " 281: 'iupui',\n",
       " 282: 'oral-roberts',\n",
       " 283: 'tulane',\n",
       " 284: 'stanford',\n",
       " 285: 'michigan-state',\n",
       " 286: 'st-bonaventure',\n",
       " 287: 'iona',\n",
       " 288: 'north-carolina-charlotte',\n",
       " 289: 'byu',\n",
       " 290: 'virginia',\n",
       " 291: 'university of california',\n",
       " 292: 'niagara',\n",
       " 293: 'marquette',\n",
       " 294: 'oklahoma',\n",
       " 295: 'troy st.',\n",
       " 296: 'north-carolina-state',\n",
       " 297: 'wyoming',\n",
       " 298: 'bradley',\n",
       " 299: 'minnesota',\n",
       " 300: 'memphis',\n",
       " 301: 'texas-christian',\n",
       " 302: 'howard',\n",
       " 303: 'alcorn-state',\n",
       " 304: 'syracuse',\n",
       " 305: 'san-diego',\n",
       " 306: 'ohio',\n",
       " 307: 'colorado-state',\n",
       " 308: 'wagner',\n",
       " 309: 'arizona-state',\n",
       " 310: 'st-francis-ny',\n",
       " 311: 'denver',\n",
       " 312: 'indiana',\n",
       " 313: 'auburn',\n",
       " 314: 'lsu',\n",
       " 315: 'mississippi-state',\n",
       " 316: 'oakland',\n",
       " 317: 'georgia',\n",
       " 318: 'george-washington',\n",
       " 319: 'southern-illinois',\n",
       " 320: 'siena',\n",
       " 321: 'wku',\n",
       " 322: 'appalachian-state',\n",
       " 323: 'dayton',\n",
       " 324: 'wisconsin-milwaukee',\n",
       " 325: 'georgia-tech',\n",
       " 326: 'tulsa',\n",
       " 327: 'nevada',\n",
       " 328: 'uab',\n",
       " 329: 'georgetown',\n",
       " 330: 'pepperdine',\n",
       " 331: 'louisville',\n",
       " 332: 'pittsburgh',\n",
       " 333: 'xavier',\n",
       " 334: 'usc',\n",
       " 335: 'texas',\n",
       " 336: 'central-michigan',\n",
       " 337: 'colorado',\n",
       " 338: 'wake-forest',\n",
       " 339: 'maryland',\n",
       " 340: 'arizona',\n",
       " 341: 'hampton',\n",
       " 342: 'mercer',\n",
       " 343: 'illinois',\n",
       " 344: 'unc',\n",
       " 345: 'kansas',\n",
       " 346: 'notre-dame',\n",
       " 347: 'unlv',\n",
       " 348: 'texas-tech',\n",
       " 349: 'florida',\n",
       " 350: 'kentucky',\n",
       " 351: 'boston-college',\n",
       " 352: 'uic',\n",
       " 353: 'oregon',\n",
       " 354: 'duke',\n",
       " 355: 'creighton',\n",
       " 356: 'uconn',\n",
       " 357: 'gonzaga'}"
      ]
     },
     "execution_count": 962,
     "metadata": {},
     "output_type": "execute_result"
    }
   ],
   "source": [
    "Ranks"
   ]
  },
  {
   "cell_type": "code",
   "execution_count": 960,
   "metadata": {},
   "outputs": [],
   "source": [
    "Ranks={key:rank for key, rank in enumerate (sorted(points_dict,key=points_dict.get),1)}\n"
   ]
  },
  {
   "cell_type": "code",
   "execution_count": 966,
   "metadata": {},
   "outputs": [
    {
     "data": {
      "image/png": "[encoded data removed]",
      "text/plain": [
       "<Figure size 720x360 with 1 Axes>"
      ]
     },
     "metadata": {
      "needs_background": "light"
     },
     "output_type": "display_data"
    }
   ],
   "source": [
    "Rank = {A:N for (A,N) in [x for x in points_dict.items()][:15]}\n",
    "\n",
    "labels = []\n",
    "numbers = []\n",
    "total = 0\n",
    "for key, value in Rank.items():\n",
    "    labels.append(key)\n",
    "    numbers.append(value)\n",
    "    total += value\n",
    "index = np.arange(len(labels))\n",
    "plt.figure(figsize=(10,5))\n",
    "\n",
    "plt.barh(index,numbers)\n",
    "for i, v in enumerate(numbers):\n",
    "    plt.text(v + 0.2, i , str(v), color='black', fontweight='bold')\n",
    "plt.yticks(index, labels, fontsize=10, rotation=0)\n",
    "\n",
    "plt.title(\"Teams with highest number of points scored per season\")\n",
    "plt.tight_layout()\n",
    "plt.show()\n"
   ]
  },
  {
   "cell_type": "markdown",
   "metadata": {},
   "source": [
    "## Conclusion\n",
    "Creighton scored the most amount of points per season.\n",
    "\n",
    "The next question to ask is how did these teams with the most amount of points scored perform in terms of how much win they accumulated during the season"
   ]
  },
  {
   "cell_type": "markdown",
   "metadata": {},
   "source": [
    "## Question 8\n",
    "\n",
    "8.How did the teams with the highest points scored per season while playing at home compare with the number of wins during the season"
   ]
  },
  {
   "cell_type": "code",
   "execution_count": null,
   "metadata": {},
   "outputs": [],
   "source": []
  },
  {
   "cell_type": "markdown",
   "metadata": {},
   "source": [
    "## Question 9\n",
    "\n",
    "9.How did the teams with the highest turnover scored per season compare with their wins during the season\n",
    "\n",
    "#AvgHTO_list=list(AvgHTO.values())\n",
    "#AvgHTO_list = list(AvgHTO.index)\n",
    "\n",
    "\n",
    "num1 = list(AvgHTO.index)\n",
    "#num2 = list(AvgATO.index)\n",
    "#num3 = list(AvgNTO.index)\n",
    "\n",
    "\n",
    "x_indexes1 =np.arange(len(num1))\n",
    "x_indexes2 =np.arange(len(num2))\n",
    "x_indexes3 =np.arange(len(num3))\n",
    "\n",
    "\n",
    "\n",
    "barWidth = 0.25\n",
    "plt.bar(x_indexes1+barWidth, AvgATO.values.flatten(),edgecolor='white',width=barWidth)\n",
    "plt.bar(x_indexes1, AvgATO.values.flatten(),edgecolor='white',width=barWidth)\n",
    "plt.bar(x_indexes1-barWidth, AvgNTO.values.flatten(),edgecolor='white',width=barWidth)\n",
    "\n",
    "\n",
    "\n",
    "plt.xlabel('Season Progression')\n",
    "plt.ylabel('Turnover per Season')\n",
    "plt.title(' Turnover per team', size=20)\n",
    "plt.legend([\"Home\", \"Away\",\"Neutral\"],loc=0)\n",
    "\n",
    "plt.xticks(ticks=x_indexes1,labels = num1)\n",
    "plt.figure(figsize=(10,5))"
   ]
  }
 ],
 "metadata": {
  "kernelspec": {
   "display_name": "Python 3",
   "language": "python",
   "name": "python3"
  },
  "language_info": {
   "codemirror_mode": {
    "name": "ipython",
    "version": 3
   },
   "file_extension": ".py",
   "mimetype": "text/x-python",
   "name": "python",
   "nbconvert_exporter": "python",
   "pygments_lexer": "ipython3",
   "version": "3.7.4"
  }
 },
 "nbformat": 4,
 "nbformat_minor": 2
}
