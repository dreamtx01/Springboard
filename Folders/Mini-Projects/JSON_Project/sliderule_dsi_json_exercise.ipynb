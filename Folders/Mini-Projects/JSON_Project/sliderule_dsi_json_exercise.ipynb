{
 "cells": [
  {
   "cell_type": "markdown",
   "metadata": {},
   "source": [
    "# JSON examples and exercise\n",
    "****\n",
    "+ get familiar with packages for dealing with JSON\n",
    "+ study examples with JSON strings and files \n",
    "+ work on exercise to be completed and submitted \n",
    "****\n",
    "+ reference: http://pandas.pydata.org/pandas-docs/stable/io.html#io-json-reader\n",
    "****"
   ]
  },
  {
   "cell_type": "code",
   "execution_count": 170,
   "metadata": {},
   "outputs": [],
   "source": [
    "import pandas as pd"
   ]
  },
  {
   "cell_type": "markdown",
   "metadata": {},
   "source": [
    "## imports for Python, Pandas"
   ]
  },
  {
   "cell_type": "code",
   "execution_count": 171,
   "metadata": {},
   "outputs": [],
   "source": [
    "import json\n",
    "from pandas.io.json import json_normalize\n",
    "import numpy as np"
   ]
  },
  {
   "cell_type": "markdown",
   "metadata": {},
   "source": [
    "****\n",
    "## JSON exercise\n",
    "\n",
    "Using data in file 'data/world_bank_projects.json' and the techniques demonstrated above,\n",
    "1. Find the 10 countries with most projects\n",
    "2. Find the top 10 major project themes (using column 'mjtheme_namecode')\n",
    "3. In 2. above you will notice that some entries have only the code and the name is missing. Create a dataframe with the missing names filled in."
   ]
  },
  {
   "cell_type": "code",
   "execution_count": 172,
   "metadata": {},
   "outputs": [],
   "source": [
    "#1. Find the 10 countries with most projects\n",
    "#step 1 load as Pandas Dataframe. This shows there are 500 rows and 50 columns\n",
    "#step 2 display the labels of the 50 columns to see what key value pair to find the 10 countries with most project\n",
    "#step 3 use the method value count to tie country with project. Then print the 10 most countries with most project\n"
   ]
  },
  {
   "cell_type": "code",
   "execution_count": 184,
   "metadata": {
    "scrolled": true
   },
   "outputs": [
    {
     "data": {
      "text/plain": [
       "(500, 50)"
      ]
     },
     "execution_count": 184,
     "metadata": {},
     "output_type": "execute_result"
    }
   ],
   "source": [
    "# Step 1: load as Pandas dataframe and see how many rows and columns exist\n",
    "json_df = pd.read_json('data/world_bank_projects.json')\n",
    "json_df.shape"
   ]
  },
  {
   "cell_type": "code",
   "execution_count": 175,
   "metadata": {},
   "outputs": [
    {
     "name": "stdout",
     "output_type": "stream",
     "text": [
      "0 sector\n",
      "1 supplementprojectflg\n",
      "2 projectfinancialtype\n",
      "3 prodline\n",
      "4 mjtheme\n",
      "5 idacommamt\n",
      "6 impagency\n",
      "7 project_name\n",
      "8 mjthemecode\n",
      "9 closingdate\n",
      "10 totalcommamt\n",
      "11 id\n",
      "12 mjsector_namecode\n",
      "13 docty\n",
      "14 sector1\n",
      "15 lendinginstr\n",
      "16 countrycode\n",
      "17 sector2\n",
      "18 totalamt\n",
      "19 mjtheme_namecode\n",
      "20 boardapprovaldate\n",
      "21 countryshortname\n",
      "22 sector4\n",
      "23 prodlinetext\n",
      "24 productlinetype\n",
      "25 regionname\n",
      "26 status\n",
      "27 country_namecode\n",
      "28 envassesmentcategorycode\n",
      "29 project_abstract\n",
      "30 approvalfy\n",
      "31 projectdocs\n",
      "32 lendprojectcost\n",
      "33 lendinginstrtype\n",
      "34 theme1\n",
      "35 grantamt\n",
      "36 themecode\n",
      "37 borrower\n",
      "38 sectorcode\n",
      "39 sector3\n",
      "40 majorsector_percent\n",
      "41 board_approval_month\n",
      "42 theme_namecode\n",
      "43 countryname\n",
      "44 url\n",
      "45 source\n",
      "46 projectstatusdisplay\n",
      "47 ibrdcommamt\n",
      "48 sector_namecode\n",
      "49 _id\n"
     ]
    }
   ],
   "source": [
    "#step 2: Display the labels of the 50 columns to see what key value pair to find the 10 countries with most project\n",
    "for index,value in enumerate (json_df):\n",
    "    print (index,value)"
   ]
  },
  {
   "cell_type": "code",
   "execution_count": 188,
   "metadata": {},
   "outputs": [
    {
     "name": "stdout",
     "output_type": "stream",
     "text": [
      " Top 10 Countries with most projects\n",
      "People's Republic of China         19\n",
      "Republic of Indonesia              19\n",
      "Socialist Republic of Vietnam      17\n",
      "Republic of India                  16\n",
      "Republic of Yemen                  13\n",
      "Kingdom of Morocco                 12\n",
      "People's Republic of Bangladesh    12\n",
      "Nepal                              12\n",
      "Africa                             11\n",
      "Republic of Mozambique             11\n",
      "Name: countryname, dtype: int64\n"
     ]
    }
   ],
   "source": [
    "#Step 3 use the method value count to tie country with project. Then print the 10 most countries with most project\n",
    "count = json_df[\"countryname\"].value_counts()\n",
    "print (\" Top 10 Countries with most projects\")\n",
    "print(count.head(10))\n"
   ]
  },
  {
   "cell_type": "code",
   "execution_count": 189,
   "metadata": {},
   "outputs": [],
   "source": [
    "#2. Find the top 10 major project themes (using column 'mjtheme_namecode')\n",
    "#step 1 Create new dataframe\n",
    "#step 2 Normalize data in mjtheme_namecode\n",
    "#step 3 Return the most freqently occuring elements in descending order."
   ]
  },
  {
   "cell_type": "code",
   "execution_count": 190,
   "metadata": {},
   "outputs": [],
   "source": [
    "#step 1\n",
    "# Create new dataframe.\n",
    "project_themes = pd.DataFrame(columns = ['code', 'name'])"
   ]
  },
  {
   "cell_type": "code",
   "execution_count": 191,
   "metadata": {},
   "outputs": [
    {
     "data": {
      "text/html": [
       "<div>\n",
       "<style scoped>\n",
       "    .dataframe tbody tr th:only-of-type {\n",
       "        vertical-align: middle;\n",
       "    }\n",
       "\n",
       "    .dataframe tbody tr th {\n",
       "        vertical-align: top;\n",
       "    }\n",
       "\n",
       "    .dataframe thead th {\n",
       "        text-align: right;\n",
       "    }\n",
       "</style>\n",
       "<table border=\"1\" class=\"dataframe\">\n",
       "  <thead>\n",
       "    <tr style=\"text-align: right;\">\n",
       "      <th></th>\n",
       "      <th>code</th>\n",
       "      <th>name</th>\n",
       "    </tr>\n",
       "  </thead>\n",
       "  <tbody>\n",
       "    <tr>\n",
       "      <td>0</td>\n",
       "      <td>8</td>\n",
       "      <td>Human development</td>\n",
       "    </tr>\n",
       "    <tr>\n",
       "      <td>1</td>\n",
       "      <td>11</td>\n",
       "      <td></td>\n",
       "    </tr>\n",
       "    <tr>\n",
       "      <td>0</td>\n",
       "      <td>1</td>\n",
       "      <td>Economic management</td>\n",
       "    </tr>\n",
       "    <tr>\n",
       "      <td>1</td>\n",
       "      <td>6</td>\n",
       "      <td>Social protection and risk management</td>\n",
       "    </tr>\n",
       "    <tr>\n",
       "      <td>0</td>\n",
       "      <td>5</td>\n",
       "      <td>Trade and integration</td>\n",
       "    </tr>\n",
       "  </tbody>\n",
       "</table>\n",
       "</div>"
      ],
      "text/plain": [
       "  code                                   name\n",
       "0    8                      Human development\n",
       "1   11                                       \n",
       "0    1                    Economic management\n",
       "1    6  Social protection and risk management\n",
       "0    5                  Trade and integration"
      ]
     },
     "execution_count": 191,
     "metadata": {},
     "output_type": "execute_result"
    }
   ],
   "source": [
    "#step 2  Normalize data in mjtheme_namecode\n",
    "for row in json_df.mjtheme_namecode:\n",
    "    project_themes = project_themes.append(json_normalize(row))\n",
    "\n",
    "project_themes.head()"
   ]
  },
  {
   "cell_type": "code",
   "execution_count": 192,
   "metadata": {},
   "outputs": [
    {
     "data": {
      "text/plain": [
       "Environment and natural resources management    223\n",
       "Rural development                               202\n",
       "Human development                               197\n",
       "Public sector governance                        184\n",
       "Social protection and risk management           158\n",
       "Financial and private sector development        130\n",
       "                                                122\n",
       "Social dev/gender/inclusion                     119\n",
       "Trade and integration                            72\n",
       "Urban development                                47\n",
       "Name: name, dtype: int64"
      ]
     },
     "execution_count": 192,
     "metadata": {},
     "output_type": "execute_result"
    }
   ],
   "source": [
    "# Step 3  From the column name, return the most frequently occuring elements in descending order.\n",
    "project_themes_count = project_themes.name.value_counts()\n",
    "project_themes_count.head(10)"
   ]
  },
  {
   "cell_type": "code",
   "execution_count": 193,
   "metadata": {},
   "outputs": [],
   "source": [
    "#In 2. above you will notice that some entries have only the code and the name is missing. \n",
    "#Create a dataframe with the missing names filled in.\n",
    "\n",
    "#step 1 Create new dataframe and sort by name to find blank values\n",
    "#step 2 Replace all blank spaces in \"name\" with nan\n",
    "#step 3 Replace the nan value now withthe ffillna method so that values are now each columns\n",
    "#step 4 Compare with question 2 to see if nan has truly being replaced.\n"
   ]
  },
  {
   "cell_type": "code",
   "execution_count": 194,
   "metadata": {},
   "outputs": [
    {
     "data": {
      "text/html": [
       "<div>\n",
       "<style scoped>\n",
       "    .dataframe tbody tr th:only-of-type {\n",
       "        vertical-align: middle;\n",
       "    }\n",
       "\n",
       "    .dataframe tbody tr th {\n",
       "        vertical-align: top;\n",
       "    }\n",
       "\n",
       "    .dataframe thead th {\n",
       "        text-align: right;\n",
       "    }\n",
       "</style>\n",
       "<table border=\"1\" class=\"dataframe\">\n",
       "  <thead>\n",
       "    <tr style=\"text-align: right;\">\n",
       "      <th></th>\n",
       "      <th>code</th>\n",
       "      <th>name</th>\n",
       "    </tr>\n",
       "  </thead>\n",
       "  <tbody>\n",
       "    <tr>\n",
       "      <td>1</td>\n",
       "      <td>8</td>\n",
       "      <td></td>\n",
       "    </tr>\n",
       "    <tr>\n",
       "      <td>1</td>\n",
       "      <td>10</td>\n",
       "      <td></td>\n",
       "    </tr>\n",
       "    <tr>\n",
       "      <td>1</td>\n",
       "      <td>11</td>\n",
       "      <td></td>\n",
       "    </tr>\n",
       "    <tr>\n",
       "      <td>1</td>\n",
       "      <td>4</td>\n",
       "      <td></td>\n",
       "    </tr>\n",
       "    <tr>\n",
       "      <td>1</td>\n",
       "      <td>4</td>\n",
       "      <td></td>\n",
       "    </tr>\n",
       "    <tr>\n",
       "      <td>...</td>\n",
       "      <td>...</td>\n",
       "      <td>...</td>\n",
       "    </tr>\n",
       "    <tr>\n",
       "      <td>0</td>\n",
       "      <td>9</td>\n",
       "      <td>Urban development</td>\n",
       "    </tr>\n",
       "    <tr>\n",
       "      <td>0</td>\n",
       "      <td>9</td>\n",
       "      <td>Urban development</td>\n",
       "    </tr>\n",
       "    <tr>\n",
       "      <td>3</td>\n",
       "      <td>9</td>\n",
       "      <td>Urban development</td>\n",
       "    </tr>\n",
       "    <tr>\n",
       "      <td>1</td>\n",
       "      <td>9</td>\n",
       "      <td>Urban development</td>\n",
       "    </tr>\n",
       "    <tr>\n",
       "      <td>0</td>\n",
       "      <td>9</td>\n",
       "      <td>Urban development</td>\n",
       "    </tr>\n",
       "  </tbody>\n",
       "</table>\n",
       "<p>1499 rows × 2 columns</p>\n",
       "</div>"
      ],
      "text/plain": [
       "   code               name\n",
       "1     8                   \n",
       "1    10                   \n",
       "1    11                   \n",
       "1     4                   \n",
       "1     4                   \n",
       "..  ...                ...\n",
       "0     9  Urban development\n",
       "0     9  Urban development\n",
       "3     9  Urban development\n",
       "1     9  Urban development\n",
       "0     9  Urban development\n",
       "\n",
       "[1499 rows x 2 columns]"
      ]
     },
     "execution_count": 194,
     "metadata": {},
     "output_type": "execute_result"
    }
   ],
   "source": [
    "#step 1 Create new dataframe and sort by name to find blank values\n",
    "missing_df=project_themes.sort_values(by=\"name\")\n",
    "missing_df"
   ]
  },
  {
   "cell_type": "code",
   "execution_count": 207,
   "metadata": {},
   "outputs": [
    {
     "data": {
      "text/plain": [
       "1                  NaN\n",
       "1                  NaN\n",
       "1                  NaN\n",
       "1                  NaN\n",
       "1                  NaN\n",
       "           ...        \n",
       "0    Urban development\n",
       "0    Urban development\n",
       "3    Urban development\n",
       "1    Urban development\n",
       "0    Urban development\n",
       "Name: name, Length: 1499, dtype: object"
      ]
     },
     "execution_count": 207,
     "metadata": {},
     "output_type": "execute_result"
    }
   ],
   "source": [
    "#step 2 Replace all blank spaces in \"name\" with nan\n",
    "\n",
    "# Replace all blank spaces in \"name\" with nan. \n",
    "missing_df['name'].replace('',np.nan)\n"
   ]
  },
  {
   "cell_type": "code",
   "execution_count": 242,
   "metadata": {},
   "outputs": [
    {
     "data": {
      "text/plain": [
       "1    Economic management\n",
       "2    Economic management\n",
       "1    Economic management\n",
       "3    Economic management\n",
       "0    Economic management\n",
       "            ...         \n",
       "0      Urban development\n",
       "0      Urban development\n",
       "2      Urban development\n",
       "0      Urban development\n",
       "0      Urban development\n",
       "Name: name, Length: 1499, dtype: object"
      ]
     },
     "execution_count": 242,
     "metadata": {},
     "output_type": "execute_result"
    }
   ],
   "source": [
    "#step 3 Replace the nan value now with the ffillna method so that values are now each columns\n",
    "\n",
    "\n",
    "#  Use the fillna function to replace the nan value. \n",
    "#To do this we will have to first sort the rows together. We will sort with the \"code\" cells\n",
    "\n",
    "sorted_code = missing_df.sort_values(by='code')\n",
    "\n",
    "#   After this is sorted we can now use the fillna function to fill in nan in the \"name\" cells\n",
    "# We will use the 'ffill' method of 'fillna' to forward fill the 'name' cells.\n",
    "\n",
    "sorted_code['name'].fillna(method='ffill')\n"
   ]
  },
  {
   "cell_type": "code",
   "execution_count": 243,
   "metadata": {},
   "outputs": [
    {
     "data": {
      "text/plain": [
       "code  name                                        \n",
       "11    Environment and natural resources management    250\n",
       "10    Rural development                               216\n",
       "8     Human development                               209\n",
       "2     Public sector governance                        199\n",
       "6     Social protection and risk management           168\n",
       "4     Financial and private sector development        146\n",
       "7     Social dev/gender/inclusion                     130\n",
       "5     Trade and integration                            77\n",
       "9     Urban development                                50\n",
       "1     Economic management                              38\n",
       "Name: name, dtype: int64"
      ]
     },
     "execution_count": 243,
     "metadata": {},
     "output_type": "execute_result"
    }
   ],
   "source": [
    "#step 4 Compare with question 2 to see if nan has truly being replaced.\n",
    "# We group by the cell \"code\" and then sort the value and see if there is a difference with exerise 2\n",
    "\n",
    "sco = psorted.groupby('code').name.value_counts()\n",
    "\n",
    "\n",
    "#sorted_code.head(10).sort_values(ascending=False)\n",
    "sco.sort_values(ascending=False).head(10)\n"
   ]
  }
 ],
 "metadata": {
  "kernelspec": {
   "display_name": "Python 3",
   "language": "python",
   "name": "python3"
  },
  "language_info": {
   "codemirror_mode": {
    "name": "ipython",
    "version": 3
   },
   "file_extension": ".py",
   "mimetype": "text/x-python",
   "name": "python",
   "nbconvert_exporter": "python",
   "pygments_lexer": "ipython3",
   "version": "3.7.4"
  }
 },
 "nbformat": 4,
 "nbformat_minor": 1
}
