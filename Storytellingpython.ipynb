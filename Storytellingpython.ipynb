{
 "cells": [
  {
   "cell_type": "markdown",
   "metadata": {},
   "source": [
    "## Introduction\n",
    "In this kernal a regular season analysis will be conducted on NCAA tournament for seasons 2012 - 2019. A series of questions will be asked of the data, with the aim of better understanding the dataset provided. The results and answers to these questions will be displayed using packages provided by python. The questions will be :\n",
    "\n",
    "1. a. Does a winning team score more points when playing at home, than when playing at either a neutral ground or an away ground?\n",
    "\n",
    "1. b. Does a losing team score more points when playing at home, than when playing at either a neutral ground or an away ground?\n",
    "\n",
    "2. Is there a difference in the amount of matches played at home, away or a neutral location?\n",
    "\n",
    "3. a.  What is the average points scored in a day per season?\n",
    "\n",
    "3. b. How does the average points scored in a day change from season to season?\n",
    "\n",
    "4. What is the average variation in points scored for the winning team per season?\n",
    "\n",
    "5. What is the average variation in points scored by the winning team when playing at home, away or a neutral location per season?\n",
    "\n",
    "6. What is the average turnover by the winning team when playing at home, away or a neutral location per season?\n",
    "\n",
    "7. What is the ranking of the top 15 teams based on the winning percentage per season?\n",
    "\n",
    "8. Ranking the top 15 teams by the no. of points scored for all seasons irrespective of the number of matches played"
   ]
  },
  {
   "cell_type": "code",
   "execution_count": null,
   "metadata": {},
   "outputs": [],
   "source": [
    "#Packages imported to be used for analysis\n",
    "\n",
    "import numpy as np\n",
    "import pandas as pd\n",
    "import seaborn as sns\n",
    "\n",
    "%matplotlib inline\n",
    "\n",
    "import matplotlib.pyplot as plt\n",
    "from collections import Counter\n",
    "\n",
    "from IPython import display\n",
    "from ipywidgets import interact, widgets"
   ]
  },
  {
   "cell_type": "markdown",
   "metadata": {},
   "source": [
    "## Question 1a\n",
    "\n",
    "Does a winning team score more points when playing at home than when playing at either a neutral ground or an away ground?"
   ]
  },
  {
   "cell_type": "code",
   "execution_count": null,
   "metadata": {},
   "outputs": [],
   "source": [
    "capstone= pd.read_csv(\"mens-machine-learning-competition-2019/Prelim2019_RegularSeasonDetailedResults.csv\")\n",
    "cap = pd.read_csv(\"mens-machine-learning-competition-2019/TeamSpellings.csv\",encoding =\"latin\")\n",
    "#cap2 = pd.read_csv(\"mens-machine-learning-competition-2019/TeamSp.csv\",encoding =\"latin\")\n",
    "\n",
    "capstone.head()\n"
   ]
  },
  {
   "cell_type": "code",
   "execution_count": null,
   "metadata": {},
   "outputs": [],
   "source": [
    "fig,ax1 = plt.subplots(1,1)\n",
    "fig.set_size_inches(10,7)\n",
    "\n",
    "capstone_plot= sns.boxplot(data = capstone, x= 'WLoc',y ='WScore')\n",
    "\n",
    "ax1.set_title(\"Points Distribution\")\n",
    "ax1.set_xticklabels(['Neutral Ground',\"Home Ground\",\"Away Ground\" ])\n",
    "ax1.set_ylabel('Points Made by Winning team')\n",
    "plt.show()"
   ]
  },
  {
   "cell_type": "markdown",
   "metadata": {},
   "source": [
    "## Conclusion\n",
    "The average number of points for the winning team at the home ground is higher than the points scored when playing at either away or neutral grounds."
   ]
  },
  {
   "cell_type": "markdown",
   "metadata": {},
   "source": [
    "## Question 1b\n",
    "Does a losing team score more points when playing at home than when playing at either a neutral ground or an away ground?"
   ]
  },
  {
   "cell_type": "code",
   "execution_count": null,
   "metadata": {},
   "outputs": [],
   "source": [
    "capstone= pd.read_csv(\"mens-machine-learning-competition-2019/Prelim2019_RegularSeasonDetailedResults.csv\")\n",
    "cap = pd.read_csv(\"mens-machine-learning-competition-2019/TeamSpellings.csv\",encoding =\"latin\")\n",
    "fig,ax1 = plt.subplots(1,1)\n",
    "fig.set_size_inches(10,7)\n",
    "\n",
    "capstone_plot= sns.boxplot(data = capstone, x= 'WLoc',y ='LScore')\n",
    "\n",
    "ax1.set_title(\"Points Distribution\")\n",
    "ax1.set_xticklabels(['Neutral Ground',\"Home Ground\",\"Away Ground\" ])\n",
    "ax1.set_ylabel('Points Made by Losing team')\n",
    "plt.show()"
   ]
  },
  {
   "cell_type": "markdown",
   "metadata": {},
   "source": [
    "There seems to be no difference to the average number of points scored by the losing team when playing in either of the neutral, home or away locations."
   ]
  },
  {
   "cell_type": "markdown",
   "metadata": {},
   "source": [
    "## Question 2\n",
    "What is the difference in amount of games played in either home, away or at a neutral location?"
   ]
  },
  {
   "cell_type": "code",
   "execution_count": null,
   "metadata": {},
   "outputs": [],
   "source": [
    "pd.DataFrame(capstone.WLoc.value_counts())"
   ]
  },
  {
   "cell_type": "code",
   "execution_count": null,
   "metadata": {},
   "outputs": [],
   "source": [
    "groupHome= capstone.groupby(\"Season\").WLoc.value_counts()"
   ]
  },
  {
   "cell_type": "code",
   "execution_count": null,
   "metadata": {},
   "outputs": [],
   "source": [
    "groupHome.unstack().plot(kind='bar',width =1.0)\n"
   ]
  },
  {
   "cell_type": "markdown",
   "metadata": {},
   "source": [
    "## Conclusion\n",
    "The proportion of all games played at home, away and in a neutral ground were all similar across all seasons.The graphs also show that more matches were played at home than at away and neutral locations in a given season."
   ]
  },
  {
   "cell_type": "markdown",
   "metadata": {},
   "source": [
    "## Question 3a\n",
    "What is the average points scored in a day per season?"
   ]
  },
  {
   "cell_type": "code",
   "execution_count": null,
   "metadata": {},
   "outputs": [],
   "source": [
    "# The first thing to do is to associate TeamID to the name of the team. \n",
    "#This will help us put a name to the team\n",
    "dic = {}\n",
    "for i in range(0,len(cap[\"TeamID\"])):\n",
    "    dic[cap[\"TeamID\"][i]]=cap['TeamNameSpelling'][i]\n",
    "capstone[\"WTeamName\"]=[dic[teamid] for teamid in capstone['WTeamID']]\n",
    "capstone[\"LTeamName\"]=[dic[teamid] for teamid in capstone['LTeamID']]"
   ]
  },
  {
   "cell_type": "code",
   "execution_count": null,
   "metadata": {},
   "outputs": [],
   "source": [
    "def plotyear(Season):\n",
    "    Avg=pd.DataFrame(capstone[capstone.Season == Season].groupby(\"DayNum\").WScore.mean().reset_index())\n",
    "    plt.plot(Avg['DayNum'],Avg['WScore'])\n",
    "    plt.axis(ymin=50,ymax=100,xmin=0,xmax=150)\n",
    "    plt.xlabel('Progression of Season')\n",
    "    plt.ylabel('Points Scored')\n",
    "    plt.title(\" Average Points Scored per Season \")\n",
    "    plt.show()\n",
    "    "
   ]
  },
  {
   "cell_type": "code",
   "execution_count": null,
   "metadata": {},
   "outputs": [],
   "source": [
    "Avg=pd.DataFrame(capstone[capstone.Season == 2003].groupby(\"DayNum\").WScore.mean().reset_index())"
   ]
  },
  {
   "cell_type": "code",
   "execution_count": null,
   "metadata": {
    "scrolled": false
   },
   "outputs": [],
   "source": [
    "# First try the average point scored for 2003\n",
    "plotyear(2003)"
   ]
  },
  {
   "cell_type": "markdown",
   "metadata": {},
   "source": [
    "## Conclusion\n",
    "The chart shows a general trend of decreasing points scored as the season progreesses."
   ]
  },
  {
   "cell_type": "markdown",
   "metadata": {},
   "source": [
    "## Question 3b\n",
    "How does the average points scored in a day change from season to season?"
   ]
  },
  {
   "cell_type": "code",
   "execution_count": null,
   "metadata": {},
   "outputs": [],
   "source": [
    "\n",
    "%matplotlib inline \n",
    "interact(plotyear,Season=widgets.IntSlider(min=2003,max=2019,step=1,value=2003))"
   ]
  },
  {
   "cell_type": "markdown",
   "metadata": {},
   "source": [
    "## Conclusion\n",
    "It is difficult to see a pattern as season progreses when we compare season to season"
   ]
  },
  {
   "cell_type": "markdown",
   "metadata": {},
   "source": [
    "## Question 4.\n",
    "What is the average variation in points scored for the winning team per season? "
   ]
  },
  {
   "cell_type": "code",
   "execution_count": null,
   "metadata": {},
   "outputs": [],
   "source": [
    "Home = capstone[capstone.WLoc == 'H']\n",
    "Away = capstone[capstone.WLoc == 'A']\n",
    "Neutral = capstone[capstone.WLoc == 'N']"
   ]
  },
  {
   "cell_type": "code",
   "execution_count": null,
   "metadata": {},
   "outputs": [],
   "source": [
    "AvgH=Home.groupby(\"Season\").WScore.mean()\n",
    "\n",
    "AvgA=Away.groupby(\"Season\").WScore.mean()\n",
    "\n",
    "AvgN=Neutral.groupby(\"Season\").WScore.mean()"
   ]
  },
  {
   "cell_type": "code",
   "execution_count": null,
   "metadata": {},
   "outputs": [],
   "source": [
    "A=plt.plot(AvgH.index,AvgH)\n",
    "B=plt.plot(AvgA.index,AvgA)\n",
    "C=plt.plot(AvgN.index,AvgN)\n",
    "\n",
    "\n",
    "plt.xlabel('Season Progression')\n",
    "plt.ylabel('Points Scored per Season')\n",
    "plt.title(' Points Scored per team', size=20)\n",
    "plt.legend([\"Home\", \"Away\",\"Neutral\"],loc=0)\n",
    "plt.show()"
   ]
  },
  {
   "cell_type": "markdown",
   "metadata": {},
   "source": [
    "## Conclusion\n",
    "For all seasons the number of points scored by the winning team while playing at home is greater than points scored when playing at an away or a neutral location."
   ]
  },
  {
   "cell_type": "markdown",
   "metadata": {},
   "source": [
    "## Question 5.\n",
    "What is the average variation in points scored by the winning team when playing at home, away or a neutral location per season?\n"
   ]
  },
  {
   "cell_type": "code",
   "execution_count": null,
   "metadata": {},
   "outputs": [],
   "source": [
    "\n",
    "\n",
    "AvgH3=Home.groupby(\"Season\").WFGM3.mean()\n",
    "\n",
    "AvgA3=Away.groupby(\"Season\").WFGM3.mean()\n",
    "\n",
    "AvgN3=Neutral.groupby(\"Season\").WFGM3.mean()\n",
    "\n",
    "A=plt.plot(AvgH3.index,AvgH3)\n",
    "B=plt.plot(AvgA3.index,AvgA3)\n",
    "C=plt.plot(AvgN3.index,AvgN3)\n",
    "\n",
    "plt.xlabel('Season Progression')\n",
    "plt.ylabel('Three Points Scored per Season')\n",
    "plt.title('Three Points Scored per team', size=20)\n",
    "plt.legend([\"Home\", \"Away\",\"Neutral\"],loc=0)\n",
    "plt.show()"
   ]
  },
  {
   "cell_type": "markdown",
   "metadata": {},
   "source": [
    "## Conclusion\n",
    "For most seasons the number of three-pointers scored by the winning team while playing at home is greater than three pointers scored when playing at an away, or a neutral location."
   ]
  },
  {
   "cell_type": "markdown",
   "metadata": {},
   "source": [
    "## Question 6\n",
    "What is the average variation in turnovers per season?"
   ]
  },
  {
   "cell_type": "code",
   "execution_count": null,
   "metadata": {},
   "outputs": [],
   "source": [
    "AvgHTO=Home.groupby(\"Season\").WTO.mean()\n",
    "\n",
    "AvgATO=Away.groupby(\"Season\").WTO.mean()\n",
    "\n",
    "AvgNTO=Neutral.groupby(\"Season\").WTO.mean()"
   ]
  },
  {
   "cell_type": "code",
   "execution_count": null,
   "metadata": {},
   "outputs": [],
   "source": [
    "ATO=plt.plot(AvgHTO.index,AvgHTO)\n",
    "BTO=plt.plot(AvgATO.index,AvgATO)\n",
    "CTO=plt.plot(AvgNTO.index,AvgNTO)\n",
    "\n",
    "\n",
    "plt.xlabel('Season Progression')\n",
    "plt.ylabel('Turnover per Season')\n",
    "plt.title(' Turnover per team', size=20)\n",
    "plt.legend([\"Home\", \"Away\",\"Neutral\"],loc=0)\n",
    "plt.show()"
   ]
  },
  {
   "cell_type": "markdown",
   "metadata": {},
   "source": [
    "## Conclusion\n",
    "For all seasons the number of turnovers conceeded while playing at an away location for the winning team is greater than turnovers conceeded when playing at an home or a neutral location."
   ]
  },
  {
   "cell_type": "markdown",
   "metadata": {},
   "source": [
    "## Question 7\n",
    "What is the ranking of the top 15 teams based on the winning percentage per season?\n",
    "Winning Percentage is defined as (matches won/total matches played *100)"
   ]
  },
  {
   "cell_type": "code",
   "execution_count": null,
   "metadata": {},
   "outputs": [],
   "source": [
    "pc_dict={team:w.loc[team]/(l.loc[team]+w.loc[team]) * 100 for team in w.index}"
   ]
  },
  {
   "cell_type": "code",
   "execution_count": null,
   "metadata": {},
   "outputs": [],
   "source": [
    "pc_dict_counter =Counter(pc_dict)\n",
    "team=[]\n",
    "percentage=[]\n",
    "for item in pc_dict_counter.most_common(15):\n",
    "    team.append(item[0])\n",
    "    percentage.append(item[1])\n",
    "\n",
    "team.reverse()\n",
    "percentage.reverse()\n",
    "plt.barh(team,percentage)\n",
    "plt.title(\"Top 15 teams ranked by Win Percentage\")\n",
    "plt.ylabel(\"Team\")\n",
    "plt.xlabel(\"Percentages\")\n",
    "plt.tight_layout()\n",
    "plt.show()"
   ]
  },
  {
   "cell_type": "markdown",
   "metadata": {},
   "source": [
    "The team with the highest win percentage is Gonzaga"
   ]
  },
  {
   "cell_type": "markdown",
   "metadata": {},
   "source": [
    "## Question 8\n",
    "Ranking the top 15 teams by the no. of points scored in all seasons irrespective of the number of matches played"
   ]
  },
  {
   "cell_type": "code",
   "execution_count": null,
   "metadata": {},
   "outputs": [],
   "source": [
    "Teams =capstone[\"WTeamName\"].unique()\n",
    "for year in range(2003,2019):\n",
    "    points_dict  = {team:0 for team in Teams}\n",
    "    results = capstone[capstone[\"Season\"]==year]\n",
    "    results.reset_index()\n",
    "    for i in range(0,len(results)):\n",
    "        points_dict[capstone['WTeamName'][i]] += capstone[\"WScore\"][i]\n",
    "        points_dict[capstone['LTeamName'][i]] += capstone[\"LScore\"][i]\n"
   ]
  },
  {
   "cell_type": "code",
   "execution_count": null,
   "metadata": {},
   "outputs": [],
   "source": [
    "Rank = {A:N for (A,N) in [x for x in g.items()][:15]}\n",
    "\n",
    "labels = []\n",
    "numbers = []\n",
    "\n",
    "total = 0\n",
    "for key, value in Rank.items():\n",
    "    a=labels.append(key)\n",
    "    b=numbers.append(value)\n",
    "    total += value\n",
    "index = np.arange(len(labels))\n",
    "\n",
    "\n",
    "plt.figure(figsize=(10,5))\n",
    "\n",
    "plt.barh(index,numbers)\n",
    "for i, v in enumerate(numbers):\n",
    "    plt.text(v + 0.2, i , str(v), color='black', fontweight='bold')\n",
    "plt.yticks(index, labels, fontsize=10, rotation=0)\n",
    "\n",
    "plt.title(\"Teams with highest number of points scored per season\")\n",
    "plt.tight_layout()\n",
    "plt.show()"
   ]
  },
  {
   "cell_type": "markdown",
   "metadata": {},
   "source": [
    "## Conclusion\n",
    "Gonzaga scored the most amount of points per season.\n"
   ]
  }
 ],
 "metadata": {
  "kernelspec": {
   "display_name": "Python 3",
   "language": "python",
   "name": "python3"
  },
  "language_info": {
   "codemirror_mode": {
    "name": "ipython",
    "version": 3
   },
   "file_extension": ".py",
   "mimetype": "text/x-python",
   "name": "python",
   "nbconvert_exporter": "python",
   "pygments_lexer": "ipython3",
   "version": "3.7.4"
  }
 },
 "nbformat": 4,
 "nbformat_minor": 2
}
