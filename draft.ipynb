{
  "nbformat": 4,
  "nbformat_minor": 0,
  "metadata": {
    "colab": {
      "name": "Untitled4.ipynb",
      "provenance": [],
      "authorship_tag": "ABX9TyPKxdwHM1IZbTPiBZ4+WL0R",
      "include_colab_link": true
    },
    "kernelspec": {
      "name": "python3",
      "display_name": "Python 3"
    }
  },
  "cells": [
    {
      "cell_type": "markdown",
      "metadata": {
        "id": "view-in-github",
        "colab_type": "text"
      },
      "source": [
        "<a href=\"https://colab.research.google.com/github/dreamtx01/Springboard/blob/master/draft.ipynb\" target=\"_parent\"><img src=\"https://colab.research.google.com/assets/colab-badge.svg\" alt=\"Open In Colab\"/></a>"
      ]
    },
    {
      "cell_type": "markdown",
      "metadata": {
        "id": "ZOyp0NdC--i-",
        "colab_type": "text"
      },
      "source": [
        "\n",
        "> # What are the factors that contribute to a home team winning an NCAA basketball game?\n",
        "> # Milestone Report (May 2020)\n",
        "># by\n",
        "> #          Adeyemi Adejuwon\n",
        "\n",
        "\n",
        "\n",
        "\n",
        "\n",
        "\n",
        "\n",
        "              \n",
        "\n",
        "\n",
        "\n"
      ]
    },
    {
      "cell_type": "markdown",
      "metadata": {
        "id": "3PficSg4DC9d",
        "colab_type": "text"
      },
      "source": [
        "># Abstract\n",
        "\n",
        "From 2002-2019,  teams in the regular season  of NCAA basketball games won 51,821 of their home games but only won  26,757 games  of their away games, giving a winning percentage of 60.6 when playing at home versus xxx when playing at away or neutral locations.  This home court advantage was further confirmed with a Tukey HSD test that showed that there is a statistically significant difference between the pairs home and away games, the pairs home and neutral games, versus the  pair away and neutral games.\n",
        "Many articles have explained that the reason for  a team’s home-court success is the presence of fans and the arena as opposed to the fact that they are simply the better team in a particular matchup. Assuming this is the case, the odds are already stacked against a visiting team, when playing these basketball matches. This report tries to analyse  some of the differences between playing on the road and playing at home and sees how to optimize the in game statistics for the visiting team.\n",
        "In this report, the average points posted for the winning team when playing at home  was xx % higher than  when playing away or at a neutral location, the average three-pointers scored by the winning team was xx% higher when playing at home versus when playing away or at a neutral location  , the turnover conceded by the winning team was xxx% when playing at home than when playing away or at a neutral location , three-pointers  posted by the winning teams was xxx%.higher when playing at home than when playing away or at a neutral location\n",
        "Evaluations of the in game statistics confirmed that there was a strong correlation between the field goals made and assist for the winning teams,  while there were weak correlations between turnovers conceded to the winning score by the winning team.\n",
        "The  teams with the highest winning percentages in the seasons  2003 -2019  were Kansas and Gonzaga , and their average winning scores in matches when compared to each other, showed that the difference in their winning scores was not statistically significant.\n",
        "\n",
        "\n",
        " --- \n",
        "__Table of Contents__\n",
        "\n",
        "[Abstract](#abstract)\n",
        "\n",
        "[Introduction](#introduction)\n",
        "\n",
        "[Objective](#objective)\n",
        "\n",
        "[Dataset](#dataset)\t\n",
        "\n",
        "[Data Type] (#data Type)\n",
        "\n",
        "[Data Cleaning & Wrangling] (#data cleaning & wrangling)\n",
        "\n",
        "[Handling Missing Data](#handling Missing Data)\n",
        "\n",
        "[Exploratory Data Analysis](#exploratory Data Analysis)\n",
        "\n",
        "[Data Statistics](#data statistics)\n",
        "\n",
        "---\n",
        "# Introduction\n",
        "\n",
        "The phenomenon of home field advantage is nothing new in the world of sports .  Home teams generally have the advantage of having the support of larger, more enthusiastic crowds, and it has been suggested in some studies, that it is the home court atmosphere  that enhances the home teams opportunities for winning matches.\n",
        "\n",
        "---\n",
        "\n",
        "# Objective\n",
        "\n",
        "The goal of my project is to study game factors that affect a home team winning an NCAA Division 1 Men’s basketball game, and likewise affect an away team losing a match. The information derived from these analysis can help a basketball coach tune his game play tactics and thereby increase his odds of winning a game when playing at an away location.\n",
        "\n",
        "---\n",
        "\n",
        "# Dataset \n",
        "\n",
        "The dataset for this analysis will be obtained  from Kaggle [Dataset](https://www.kaggle.com/c/mens-machine-learning-competition-2019/data \"Dataset\").This data is associated with an annual competition sponsored by Google.The datasets explored in our analysis were from the tables\n",
        "\n",
        "### Code 1: Dataset\n",
        "    \n",
        "   * RegularSeasonCompactResults.csv \n",
        "``` python\n",
        "capstone= pd.read_csv(\"mens-machine-learning-competition-2019/Prelim2019_RegularSeasonDetailedResults.csv\")\n",
        "```\n",
        "   * TeamSpellings.csv \n",
        "\n",
        "``` python\n",
        "   cap = pd.read_csv(\"mens-machine-learning-competition-2019/TeamSpellings.csv\",encoding =\"latin\")\n",
        "```\n",
        "> _The regular season file identifies the game by game results for regular season matches for the years 2003  - 2019, while the teamspellings file is used to correlate TeamID numbers with their associated names_. \n",
        "---\n",
        "\n"
      ]
    },
    {
      "cell_type": "code",
      "metadata": {
        "id": "iZr5Kjg3_1UK",
        "colab_type": "code",
        "colab": {}
      },
      "source": [
        ""
      ],
      "execution_count": 0,
      "outputs": []
    }
  ]
}