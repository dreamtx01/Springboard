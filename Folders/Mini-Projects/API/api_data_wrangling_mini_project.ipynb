{
 "cells": [
  {
   "cell_type": "markdown",
   "metadata": {},
   "source": [
    "As a first step, you will need to register a free account on the http://www.quandl.com website."
   ]
  },
  {
   "cell_type": "code",
   "execution_count": 119,
   "metadata": {},
   "outputs": [],
   "source": [
    "# Store the API key as a string - according to PEP8, constants are always named in all upper case\n",
    "API_KEY = 'xxxxxxxx'"
   ]
  },
  {
   "cell_type": "markdown",
   "metadata": {},
   "source": [
    "These are your tasks for this mini project:\n",
    "1. Collect data from the Franfurt Stock Exchange, for the ticker , for the whole year  2017 (keep in mind that the date format is YYYY-MM-DD).\n",
    "2. Convert the returned JSON object into a Python dictionary.\n",
    "3. Calculate what the highest and lowest opening prices were for the stock in this period.\n",
    "4. What was the largest change in any one day (based on High and Low price)?\n",
    "5. What was the largest change between any two days (based on Closing Price)?\n",
    "6. What was the average daily trading volume during this year?\n"
   ]
  },
  {
   "cell_type": "code",
   "execution_count": 141,
   "metadata": {},
   "outputs": [
    {
     "data": {
      "text/plain": [
       "{'dataset': {'id': 10095370,\n",
       "  'dataset_code': 'AFX_X',\n",
       "  'database_code': 'FSE',\n",
       "  'name': 'Carl Zeiss Meditec (AFX_X)',\n",
       "  'description': 'Stock Prices for Carl Zeiss Meditec (2020-02-04) from the Frankfurt Stock Exchange.<br><br>Trading System: Xetra<br><br>ISIN: DE0005313704',\n",
       "  'refreshed_at': '2020-02-18T22:20:09.637Z',\n",
       "  'newest_available_date': '2020-02-18',\n",
       "  'oldest_available_date': '2000-06-07',\n",
       "  'column_names': ['Date',\n",
       "   'Open',\n",
       "   'High',\n",
       "   'Low',\n",
       "   'Close',\n",
       "   'Change',\n",
       "   'Traded Volume',\n",
       "   'Turnover',\n",
       "   'Last Price of the Day',\n",
       "   'Daily Traded Units',\n",
       "   'Daily Turnover'],\n",
       "  'frequency': 'daily',\n",
       "  'type': 'Time Series',\n",
       "  'premium': False,\n",
       "  'limit': None,\n",
       "  'transform': None,\n",
       "  'column_index': None,\n",
       "  'start_date': '2020-02-18',\n",
       "  'end_date': '2020-02-18',\n",
       "  'data': [['2020-02-18',\n",
       "    107.2,\n",
       "    109.8,\n",
       "    107.0,\n",
       "    109.6,\n",
       "    None,\n",
       "    111209.0,\n",
       "    12136682.0,\n",
       "    None,\n",
       "    None,\n",
       "    None]],\n",
       "  'collapse': None,\n",
       "  'order': None,\n",
       "  'database_id': 6129}}"
      ]
     },
     "execution_count": 141,
     "metadata": {},
     "output_type": "execute_result"
    }
   ],
   "source": [
    "# First, import the relevant modules\n",
    "import json\n",
    "import requests\n",
    "import pandas as pd\n",
    "import datetime\n",
    "import numpy as np\n",
    "#  Now, call the Quandl API and pull out a small sample of the data (only one day) to get a glimpse\n",
    "# into the JSON structure that will be returned\n",
    "url =\"https://www.quandl.com/api/v3/datasets/FSE/AFX_X.json?\"+ \"&start_date=2020-02-18&end_date=2020-02-18&api_key=3xu946VL38wYyTsvGWkp\"\n",
    "\n",
    "# Inspect the JSON structure of the object you created, and take note of how nested it is,\n",
    "# as well as the overall structure\n",
    "r = requests.get(url)\n",
    "json_data = r.json()\n",
    "json_data\n"
   ]
  },
  {
   "cell_type": "code",
   "execution_count": 142,
   "metadata": {},
   "outputs": [
    {
     "data": {
      "text/plain": [
       "200"
      ]
     },
     "execution_count": 142,
     "metadata": {},
     "output_type": "execute_result"
    }
   ],
   "source": [
    "# 1.Collect data from the Franfurt Stock Exchange, for the ticker AFX_X, for the whole year 2017 (keep in mind that the date format is YYYY-MM-DD)\n",
    "#url =\" https://www.quandl.com/api/v3/datasets/FSE/AFX_X.json?api_key=3xu946VL38wYyTsvGWkp\"\n",
    "\n",
    "url =\"https://www.quandl.com/api/v3/datasets/FSE/AFX_X.json?\"+ \"&start_date=2017-01-01&end_date=2017-12-31&api_key=3xu946VL38wYyTsvGWkp\"\n",
    "r = requests.get(url)\n",
    "json_data = r.json()\n",
    "\n",
    "#To check if data was retrieved use code function\n",
    "\n",
    "r.status_code\n"
   ]
  },
  {
   "cell_type": "code",
   "execution_count": 169,
   "metadata": {},
   "outputs": [],
   "source": [
    "# 2. Convert the returned JSON object into a Python dictionary.\n",
    "\n",
    "data_dict=json_data[\"dataset\"]"
   ]
  },
  {
   "cell_type": "code",
   "execution_count": 144,
   "metadata": {},
   "outputs": [
    {
     "name": "stdout",
     "output_type": "stream",
     "text": [
      "In 2017 the highest price was 53.11 and lowest price was 34.0\n"
     ]
    }
   ],
   "source": [
    "# 3. Calculate what the highest and lowest opening prices were for the stock in this period.\n",
    "\n",
    "index_open = json_data['dataset']['column_names'].index('Open')\n",
    "open_price = [day[index_open] for day in json_data['dataset']['data'] if day[index_open]]\n",
    "\n",
    "print('In 2017 the highest price was {} and lowest price was {}'.format(max(open_price), min(open_price)))"
   ]
  },
  {
   "cell_type": "code",
   "execution_count": 174,
   "metadata": {},
   "outputs": [
    {
     "name": "stdout",
     "output_type": "stream",
     "text": [
      "In 2017 the largest change in any one day was 2.81\n"
     ]
    }
   ],
   "source": [
    "#4.  What was the largest change in any one day (based on High and Low price)?\n",
    "\n",
    "index_change_High =json_data['dataset']['column_names'].index('High')\n",
    "index_change_Low =json_data['dataset']['column_names'].index('Low')\n",
    "\n",
    "change_price=max([day[index_change_High] - day[index_change_Low] for day in data_dict['data']])\n",
    "change_price = round (change_price,2)\n",
    "\n",
    "\n",
    "print('In 2017 the largest change in any one day was {}'.format((change_price)))"
   ]
  },
  {
   "cell_type": "code",
   "execution_count": 176,
   "metadata": {},
   "outputs": [
    {
     "name": "stdout",
     "output_type": "stream",
     "text": [
      "In 2017 the largest change between any two days is 2.56\n"
     ]
    }
   ],
   "source": [
    "#5. What was the largest change between any two days (based on Closing Price)?  to do this yet\n",
    "\n",
    "index_change_Close =json_data['dataset']['column_names'].index('Close')\n",
    "two_days = max([data_dict['data'][i][index_change_Close] - data_dict['data'][i-1][index_change_Close] for i in range(1,len(data_dict['data']))])\n",
    "two_days = round (two_days,2)\n",
    "print('In 2017 the largest change between any two days is {}'.format((two_days)))"
   ]
  },
  {
   "cell_type": "code",
   "execution_count": 168,
   "metadata": {},
   "outputs": [
    {
     "name": "stdout",
     "output_type": "stream",
     "text": [
      "The average trading volume in 2017 89124.34\n"
     ]
    }
   ],
   "source": [
    "\n",
    "#6. What was the average daily trading volume during the year?\n",
    "\n",
    "index_volume =json_data['dataset']['column_names'].index(\"Traded Volume\")\n",
    "change_volume = [day[index_volume] for day in json_data['dataset']['data'] if day[index_volume]]\n",
    "\n",
    "\n",
    "avg_vol=sum(change_volume)/len(change_volume)\n",
    "\n",
    "avg_vol =round (avg_vol,2)\n",
    "\n",
    "print('The average trading volume in 2017 {}'.format((avg_vol)))\n"
   ]
  }
 ],
 "metadata": {
  "kernelspec": {
   "display_name": "Python 3",
   "language": "python",
   "name": "python3"
  },
  "language_info": {
   "codemirror_mode": {
    "name": "ipython",
    "version": 3
   },
   "file_extension": ".py",
   "mimetype": "text/x-python",
   "name": "python",
   "nbconvert_exporter": "python",
   "pygments_lexer": "ipython3",
   "version": "3.7.4"
  }
 },
 "nbformat": 4,
 "nbformat_minor": 2
}
