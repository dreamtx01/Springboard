{
 "cells": [
  {
   "cell_type": "markdown",
   "metadata": {},
   "source": [
    " #  Introduction\n",
    " \n",
    " \n",
    "In this kernal I will conduct a regular season analysis on NCAA tournament for seasons 2012 - 2019. I will ask series of question of the data, with the aim of better understanding the dataset provided.\n",
    "The results and answers to these questions will be displayed using packages provided by python. The questions will be :\n",
    "\n",
    "1. Does a team score more points when playing at home, than when playing at either a neutral ground or an away ground?\n",
    "\n",
    "2. Is there a difference between how many matches played at home, away or a neutral location?\n",
    "\n",
    "3. As the season progresses how does the points scored (average) change? and how does it change from season to season?\n",
    "\n",
    "\n",
    "4. Does a team score more points when playing at home, away or a neutral location?\n",
    "\n",
    "5. Does a team score more three pointers when playing at home, away or a neutral location?\n",
    "\n",
    "6. Does a team have more turnovers when playing at home, away or a neutral location?\n",
    "\n",
    "7. Ranking the top 15 teams in a season by the number of points scored in a season\n"
   ]
  },
  {
   "cell_type": "code",
   "execution_count": 719,
   "metadata": {},
   "outputs": [],
   "source": [
    "#Packages imported to be used for analysis\n",
    "\n",
    "import numpy as np\n",
    "import pandas as pd\n",
    "import matplotlib.pyplot as plt\n",
    "import seaborn as sns\n",
    "%matplotlib inline\n",
    "\n",
    "from IPython import display\n",
    "from ipywidgets import interact, widgets\n",
    "\n"
   ]
  },
  {
   "cell_type": "code",
   "execution_count": null,
   "metadata": {},
   "outputs": [],
   "source": [
    "capstone.WScore.describe()"
   ]
  },
  {
   "cell_type": "markdown",
   "metadata": {},
   "source": [
    "## Question 1\n",
    "1. Does a team score more points when playing at home than when playing at either a neutral ground or an away ground?"
   ]
  },
  {
   "cell_type": "code",
   "execution_count": 482,
   "metadata": {},
   "outputs": [
    {
     "data": {
      "image/png": "[encoded data removed]",
      "text/plain": [
       "<Figure size 720x504 with 1 Axes>"
      ]
     },
     "metadata": {
      "needs_background": "light"
     },
     "output_type": "display_data"
    }
   ],
   "source": [
    "capstone= pd.read_csv(\"mens-machine-learning-competition-2019/Prelim2019_RegularSeasonDetailedResults.csv\")\n",
    "cap = pd.read_csv(\"mens-machine-learning-competition-2019/TeamSpellings.csv\",encoding =\"latin\")\n",
    "fig,ax1 = plt.subplots(1,1)\n",
    "fig.set_size_inches(10,7)\n",
    "\n",
    "capstone_plot= sns.boxplot(data = capstone, x= 'WLoc',y ='WScore')\n",
    "\n",
    "ax1.set_title(\"Points Distribution\")\n",
    "ax1.set_xticklabels(['Neutral Ground',\"Home Ground\",\"Away Ground\" ])\n",
    "ax1.set_ylabel('Points Made by Winning team')\n",
    "plt.show()"
   ]
  },
  {
   "cell_type": "markdown",
   "metadata": {},
   "source": [
    "## Conclusion\n",
    "Teams win more matches at home, than when they are away or at a neutral location. They also score more points at home than away or at a neutral location. The neutral and away ground results are quite similar"
   ]
  },
  {
   "cell_type": "markdown",
   "metadata": {},
   "source": [
    "## Question 2\n",
    "\n",
    "2.Is a difference between how many matches were played either home, away or a neutral location?"
   ]
  },
  {
   "cell_type": "code",
   "execution_count": null,
   "metadata": {},
   "outputs": [],
   "source": [
    "pd.DataFrame(capstone.WLoc.value_counts(normalize=True))"
   ]
  },
  {
   "cell_type": "code",
   "execution_count": 355,
   "metadata": {},
   "outputs": [],
   "source": [
    "groupHome= capstone.groupby(\"Season\").WLoc.value_counts(normalize=True)"
   ]
  },
  {
   "cell_type": "code",
   "execution_count": 357,
   "metadata": {},
   "outputs": [
    {
     "data": {
      "text/plain": [
       "<matplotlib.axes._subplots.AxesSubplot at 0x1a25c3dcd0>"
      ]
     },
     "execution_count": 357,
     "metadata": {},
     "output_type": "execute_result"
    },
    {
     "data": {
      "image/png": "[encoded data removed]",
      "text/plain": [
       "<Figure size 432x288 with 1 Axes>"
      ]
     },
     "metadata": {
      "needs_background": "light"
     },
     "output_type": "display_data"
    }
   ],
   "source": [
    "groupHome.unstack().plot(kind='bar',stacked=True)\n"
   ]
  },
  {
   "cell_type": "markdown",
   "metadata": {},
   "source": [
    "## Conclusion\n",
    "It can be concluded that the number of matches played were in the following order home>away >neutral location in all seasons"
   ]
  },
  {
   "cell_type": "markdown",
   "metadata": {},
   "source": [
    "## Question 3\n",
    "3. As the season progresses how does the points scored (average) change? and how does it change from season to season?"
   ]
  },
  {
   "cell_type": "code",
   "execution_count": 720,
   "metadata": {},
   "outputs": [],
   "source": [
    "# The first thing to do is to associate TeamID to the name of the team. This will help us put a name to the team\n",
    "dic = {}\n",
    "for i in range(0,len(cap[\"TeamID\"])):\n",
    "    dic[cap[\"TeamID\"][i]]=cap['TeamNameSpelling'][i]\n",
    "capstone[\"WTeamName\"]=[dic[teamid] for teamid in capstone['WTeamID']]\n",
    "capstone[\"LTeamName\"]=[dic[teamid] for teamid in capstone['LTeamID']]"
   ]
  },
  {
   "cell_type": "code",
   "execution_count": 721,
   "metadata": {},
   "outputs": [
    {
     "data": {
      "text/html": [
       "<div>\n",
       "<style scoped>\n",
       "    .dataframe tbody tr th:only-of-type {\n",
       "        vertical-align: middle;\n",
       "    }\n",
       "\n",
       "    .dataframe tbody tr th {\n",
       "        vertical-align: top;\n",
       "    }\n",
       "\n",
       "    .dataframe thead th {\n",
       "        text-align: right;\n",
       "    }\n",
       "</style>\n",
       "<table border=\"1\" class=\"dataframe\">\n",
       "  <thead>\n",
       "    <tr style=\"text-align: right;\">\n",
       "      <th></th>\n",
       "      <th>Season</th>\n",
       "      <th>DayNum</th>\n",
       "      <th>WTeamID</th>\n",
       "      <th>WScore</th>\n",
       "      <th>LTeamID</th>\n",
       "      <th>LScore</th>\n",
       "      <th>WLoc</th>\n",
       "      <th>NumOT</th>\n",
       "      <th>WFGM</th>\n",
       "      <th>WFGA</th>\n",
       "      <th>...</th>\n",
       "      <th>LOR</th>\n",
       "      <th>LDR</th>\n",
       "      <th>LAst</th>\n",
       "      <th>LTO</th>\n",
       "      <th>LStl</th>\n",
       "      <th>LBlk</th>\n",
       "      <th>LPF</th>\n",
       "      <th>TeamName</th>\n",
       "      <th>WTeamName</th>\n",
       "      <th>LTeamName</th>\n",
       "    </tr>\n",
       "  </thead>\n",
       "  <tbody>\n",
       "    <tr>\n",
       "      <td>0</td>\n",
       "      <td>2003</td>\n",
       "      <td>10</td>\n",
       "      <td>1104</td>\n",
       "      <td>68</td>\n",
       "      <td>1328</td>\n",
       "      <td>62</td>\n",
       "      <td>N</td>\n",
       "      <td>0</td>\n",
       "      <td>27</td>\n",
       "      <td>58</td>\n",
       "      <td>...</td>\n",
       "      <td>10</td>\n",
       "      <td>22</td>\n",
       "      <td>8</td>\n",
       "      <td>18</td>\n",
       "      <td>9</td>\n",
       "      <td>2</td>\n",
       "      <td>20</td>\n",
       "      <td>alabama</td>\n",
       "      <td>alabama</td>\n",
       "      <td>oklahoma</td>\n",
       "    </tr>\n",
       "    <tr>\n",
       "      <td>1</td>\n",
       "      <td>2003</td>\n",
       "      <td>10</td>\n",
       "      <td>1272</td>\n",
       "      <td>70</td>\n",
       "      <td>1393</td>\n",
       "      <td>63</td>\n",
       "      <td>N</td>\n",
       "      <td>0</td>\n",
       "      <td>26</td>\n",
       "      <td>62</td>\n",
       "      <td>...</td>\n",
       "      <td>20</td>\n",
       "      <td>25</td>\n",
       "      <td>7</td>\n",
       "      <td>12</td>\n",
       "      <td>8</td>\n",
       "      <td>6</td>\n",
       "      <td>16</td>\n",
       "      <td>memphis</td>\n",
       "      <td>memphis</td>\n",
       "      <td>syracuse</td>\n",
       "    </tr>\n",
       "    <tr>\n",
       "      <td>2</td>\n",
       "      <td>2003</td>\n",
       "      <td>11</td>\n",
       "      <td>1266</td>\n",
       "      <td>73</td>\n",
       "      <td>1437</td>\n",
       "      <td>61</td>\n",
       "      <td>N</td>\n",
       "      <td>0</td>\n",
       "      <td>24</td>\n",
       "      <td>58</td>\n",
       "      <td>...</td>\n",
       "      <td>31</td>\n",
       "      <td>22</td>\n",
       "      <td>9</td>\n",
       "      <td>12</td>\n",
       "      <td>2</td>\n",
       "      <td>5</td>\n",
       "      <td>23</td>\n",
       "      <td>marquette</td>\n",
       "      <td>marquette</td>\n",
       "      <td>villanova</td>\n",
       "    </tr>\n",
       "    <tr>\n",
       "      <td>3</td>\n",
       "      <td>2003</td>\n",
       "      <td>11</td>\n",
       "      <td>1296</td>\n",
       "      <td>56</td>\n",
       "      <td>1457</td>\n",
       "      <td>50</td>\n",
       "      <td>N</td>\n",
       "      <td>0</td>\n",
       "      <td>18</td>\n",
       "      <td>38</td>\n",
       "      <td>...</td>\n",
       "      <td>17</td>\n",
       "      <td>20</td>\n",
       "      <td>9</td>\n",
       "      <td>19</td>\n",
       "      <td>4</td>\n",
       "      <td>3</td>\n",
       "      <td>23</td>\n",
       "      <td>northern-illinois</td>\n",
       "      <td>northern-illinois</td>\n",
       "      <td>winthrop</td>\n",
       "    </tr>\n",
       "    <tr>\n",
       "      <td>4</td>\n",
       "      <td>2003</td>\n",
       "      <td>11</td>\n",
       "      <td>1400</td>\n",
       "      <td>77</td>\n",
       "      <td>1208</td>\n",
       "      <td>71</td>\n",
       "      <td>N</td>\n",
       "      <td>0</td>\n",
       "      <td>30</td>\n",
       "      <td>61</td>\n",
       "      <td>...</td>\n",
       "      <td>21</td>\n",
       "      <td>15</td>\n",
       "      <td>12</td>\n",
       "      <td>10</td>\n",
       "      <td>7</td>\n",
       "      <td>1</td>\n",
       "      <td>14</td>\n",
       "      <td>texas</td>\n",
       "      <td>texas</td>\n",
       "      <td>georgia</td>\n",
       "    </tr>\n",
       "  </tbody>\n",
       "</table>\n",
       "<p>5 rows × 37 columns</p>\n",
       "</div>"
      ],
      "text/plain": [
       "   Season  DayNum  WTeamID  WScore  LTeamID  LScore WLoc  NumOT  WFGM  WFGA  \\\n",
       "0    2003      10     1104      68     1328      62    N      0    27    58   \n",
       "1    2003      10     1272      70     1393      63    N      0    26    62   \n",
       "2    2003      11     1266      73     1437      61    N      0    24    58   \n",
       "3    2003      11     1296      56     1457      50    N      0    18    38   \n",
       "4    2003      11     1400      77     1208      71    N      0    30    61   \n",
       "\n",
       "   ...  LOR  LDR  LAst  LTO  LStl  LBlk  LPF           TeamName  \\\n",
       "0  ...   10   22     8   18     9     2   20            alabama   \n",
       "1  ...   20   25     7   12     8     6   16            memphis   \n",
       "2  ...   31   22     9   12     2     5   23          marquette   \n",
       "3  ...   17   20     9   19     4     3   23  northern-illinois   \n",
       "4  ...   21   15    12   10     7     1   14              texas   \n",
       "\n",
       "           WTeamName  LTeamName  \n",
       "0            alabama   oklahoma  \n",
       "1            memphis   syracuse  \n",
       "2          marquette  villanova  \n",
       "3  northern-illinois   winthrop  \n",
       "4              texas    georgia  \n",
       "\n",
       "[5 rows x 37 columns]"
      ]
     },
     "execution_count": 721,
     "metadata": {},
     "output_type": "execute_result"
    }
   ],
   "source": [
    "capstone.head()"
   ]
  },
  {
   "cell_type": "code",
   "execution_count": null,
   "metadata": {},
   "outputs": [],
   "source": [
    "AvgPoint=capstone.groupby(\"DayNum\").WScore.mean()"
   ]
  },
  {
   "cell_type": "code",
   "execution_count": 759,
   "metadata": {},
   "outputs": [],
   "source": [
    "def plotyear(Season):\n",
    "    Avg=pd.DataFrame(capstone[capstone.Season == Season].groupby(\"DayNum\").WScore.mean().reset_index())\n",
    "    Avg.plot.scatter('DayNum','WScore',\n",
    "                      \n",
    "                      linewidths=1,edgecolors='k',\n",
    "                      figsize=(12,9))\n",
    "    \n",
    "    plt.axis(ymin=50,ymax=100,xmin=0,xmax=150)\n",
    "    plt.xlabel('Progression of Season')\n",
    "    plt.ylabel('Points Scored')"
   ]
  },
  {
   "cell_type": "code",
   "execution_count": 760,
   "metadata": {},
   "outputs": [
    {
     "data": {
      "text/html": [
       "<div>\n",
       "<style scoped>\n",
       "    .dataframe tbody tr th:only-of-type {\n",
       "        vertical-align: middle;\n",
       "    }\n",
       "\n",
       "    .dataframe tbody tr th {\n",
       "        vertical-align: top;\n",
       "    }\n",
       "\n",
       "    .dataframe thead th {\n",
       "        text-align: right;\n",
       "    }\n",
       "</style>\n",
       "<table border=\"1\" class=\"dataframe\">\n",
       "  <thead>\n",
       "    <tr style=\"text-align: right;\">\n",
       "      <th></th>\n",
       "      <th>DayNum</th>\n",
       "      <th>WScore</th>\n",
       "    </tr>\n",
       "  </thead>\n",
       "  <tbody>\n",
       "    <tr>\n",
       "      <td>0</td>\n",
       "      <td>10</td>\n",
       "      <td>69.000000</td>\n",
       "    </tr>\n",
       "    <tr>\n",
       "      <td>1</td>\n",
       "      <td>11</td>\n",
       "      <td>71.750000</td>\n",
       "    </tr>\n",
       "    <tr>\n",
       "      <td>2</td>\n",
       "      <td>12</td>\n",
       "      <td>77.500000</td>\n",
       "    </tr>\n",
       "    <tr>\n",
       "      <td>3</td>\n",
       "      <td>13</td>\n",
       "      <td>80.500000</td>\n",
       "    </tr>\n",
       "    <tr>\n",
       "      <td>4</td>\n",
       "      <td>14</td>\n",
       "      <td>76.181818</td>\n",
       "    </tr>\n",
       "    <tr>\n",
       "      <td>...</td>\n",
       "      <td>...</td>\n",
       "      <td>...</td>\n",
       "    </tr>\n",
       "    <tr>\n",
       "      <td>115</td>\n",
       "      <td>128</td>\n",
       "      <td>69.928571</td>\n",
       "    </tr>\n",
       "    <tr>\n",
       "      <td>116</td>\n",
       "      <td>129</td>\n",
       "      <td>73.066667</td>\n",
       "    </tr>\n",
       "    <tr>\n",
       "      <td>117</td>\n",
       "      <td>130</td>\n",
       "      <td>73.000000</td>\n",
       "    </tr>\n",
       "    <tr>\n",
       "      <td>118</td>\n",
       "      <td>131</td>\n",
       "      <td>71.842105</td>\n",
       "    </tr>\n",
       "    <tr>\n",
       "      <td>119</td>\n",
       "      <td>132</td>\n",
       "      <td>67.250000</td>\n",
       "    </tr>\n",
       "  </tbody>\n",
       "</table>\n",
       "<p>120 rows × 2 columns</p>\n",
       "</div>"
      ],
      "text/plain": [
       "     DayNum     WScore\n",
       "0        10  69.000000\n",
       "1        11  71.750000\n",
       "2        12  77.500000\n",
       "3        13  80.500000\n",
       "4        14  76.181818\n",
       "..      ...        ...\n",
       "115     128  69.928571\n",
       "116     129  73.066667\n",
       "117     130  73.000000\n",
       "118     131  71.842105\n",
       "119     132  67.250000\n",
       "\n",
       "[120 rows x 2 columns]"
      ]
     },
     "execution_count": 760,
     "metadata": {},
     "output_type": "execute_result"
    }
   ],
   "source": [
    "pd.DataFrame(capstone[capstone.Season == 2003].groupby(\"DayNum\").WScore.mean()).reset_index()"
   ]
  },
  {
   "cell_type": "code",
   "execution_count": 761,
   "metadata": {},
   "outputs": [
    {
     "data": {
      "application/vnd.jupyter.widget-view+json": {
       "model_id": "d411c0527bbc4636ae13fb2d45aecd44",
       "version_major": 2,
       "version_minor": 0
      },
      "text/plain": [
       "interactive(children=(IntSlider(value=2003, description='Season', max=2019, min=2003), Output()), _dom_classes…"
      ]
     },
     "metadata": {},
     "output_type": "display_data"
    },
    {
     "data": {
      "text/plain": [
       "<function __main__.plotyear(Season)>"
      ]
     },
     "execution_count": 761,
     "metadata": {},
     "output_type": "execute_result"
    }
   ],
   "source": [
    "interact(plotyear,Season=widgets.IntSlider(min=2003,max=2019,step=1,value=2003))"
   ]
  },
  {
   "cell_type": "markdown",
   "metadata": {},
   "source": [
    "## Conclusion\n",
    "\n",
    "The general trend is that as the season progresses the points scored tends to decrease. This pattern is generally the same across all seasons"
   ]
  },
  {
   "cell_type": "markdown",
   "metadata": {},
   "source": [
    "## Question 4 \n",
    "\n",
    "4. Is there a variation in the points scored per season depending whether a team is playing at home, away or a neutral location?"
   ]
  },
  {
   "cell_type": "code",
   "execution_count": 602,
   "metadata": {},
   "outputs": [],
   "source": [
    "Home = capstone[capstone.WLoc == 'H']\n",
    "Away = capstone[capstone.WLoc == 'A']\n",
    "Neutral = capstone[capstone.WLoc == 'N']"
   ]
  },
  {
   "cell_type": "code",
   "execution_count": 616,
   "metadata": {},
   "outputs": [],
   "source": [
    "AvgH=Home.groupby(\"Season\").WScore.mean()\n",
    "\n",
    "AvgA=Away.groupby(\"Season\").WScore.mean()\n",
    "\n",
    "AvgN=Neutral.groupby(\"Season\").WScore.mean()"
   ]
  },
  {
   "cell_type": "code",
   "execution_count": 768,
   "metadata": {},
   "outputs": [
    {
     "data": {
      "image/png": "[encoded data removed]",
      "text/plain": [
       "<Figure size 432x288 with 1 Axes>"
      ]
     },
     "metadata": {
      "needs_background": "light"
     },
     "output_type": "display_data"
    }
   ],
   "source": [
    "A=plt.scatter(AvgH.index,AvgH)\n",
    "B=plt.scatter(AvgA.index,AvgA)\n",
    "C=plt.scatter(AvgN.index,AvgN)\n",
    "\n",
    "\n",
    "plt.xlabel('Season Progression')\n",
    "plt.ylabel('Points Scored per Season')\n",
    "plt.title(' Points Scored per team', size=20)\n",
    "plt.legend([\"Home\", \"Away\",\"Neutral\"],loc=0)\n",
    "plt.show()\n"
   ]
  },
  {
   "cell_type": "markdown",
   "metadata": {},
   "source": [
    "## Conclusion\n",
    "The order at which team scores points is Home > Away > Neutral"
   ]
  },
  {
   "cell_type": "markdown",
   "metadata": {},
   "source": [
    "## Question 5\n",
    "\n",
    "5. Does a team score more three pointers when playing at home, away or a neutral location?"
   ]
  },
  {
   "cell_type": "code",
   "execution_count": 769,
   "metadata": {},
   "outputs": [],
   "source": [
    "AvgH3=Home.groupby(\"Season\").WFGM3.mean()\n",
    "\n",
    "AvgA3=Away.groupby(\"Season\").WFGM3.mean()\n",
    "\n",
    "AvgN3=Neutral.groupby(\"Season\").WFGM3.mean()"
   ]
  },
  {
   "cell_type": "code",
   "execution_count": 783,
   "metadata": {},
   "outputs": [
    {
     "data": {
      "image/png": "[encoded data removed]",
      "text/plain": [
       "<Figure size 432x288 with 1 Axes>"
      ]
     },
     "metadata": {
      "needs_background": "light"
     },
     "output_type": "display_data"
    }
   ],
   "source": [
    "A3=plt.scatter(AvgH3.index,AvgH3)\n",
    "B3=plt.scatter(AvgA3.index,AvgA3)\n",
    "C3=plt.scatter(AvgN3.index,AvgN3)\n",
    "\n",
    "\n",
    "plt.xlabel('Season Progression')\n",
    "plt.ylabel('Three Points Scored per Season')\n",
    "plt.title('Three Points Scored per team', size=20)\n",
    "plt.legend([\"Home\", \"Away\",\"Neutral\"],loc=0)\n",
    "plt.show()"
   ]
  },
  {
   "cell_type": "markdown",
   "metadata": {},
   "source": [
    "## Conclusion\n",
    "\n",
    "The order at which team scores three pointers is Away > Home > Neutral"
   ]
  },
  {
   "cell_type": "markdown",
   "metadata": {},
   "source": [
    "## Question 6\n",
    "6. Does a team commit more turnovers at home than away"
   ]
  },
  {
   "cell_type": "code",
   "execution_count": 780,
   "metadata": {},
   "outputs": [],
   "source": [
    "AvgHTO=Home.groupby(\"Season\").WTO.mean()\n",
    "\n",
    "AvgATO=Away.groupby(\"Season\").WTO.mean()\n",
    "\n",
    "AvgNTO=Neutral.groupby(\"Season\").WTO.mean()"
   ]
  },
  {
   "cell_type": "code",
   "execution_count": 781,
   "metadata": {},
   "outputs": [
    {
     "data": {
      "image/png": "[encoded data removed]",
      "text/plain": [
       "<Figure size 432x288 with 1 Axes>"
      ]
     },
     "metadata": {
      "needs_background": "light"
     },
     "output_type": "display_data"
    }
   ],
   "source": [
    "ATO=plt.scatter(AvgHTO.index,AvgHTO)\n",
    "BTO=plt.scatter(AvgATO.index,AvgATO)\n",
    "CTO=plt.scatter(AvgNTO.index,AvgNTO)\n",
    "\n",
    "\n",
    "plt.xlabel('Season Progression')\n",
    "plt.ylabel('Turnover per Season')\n",
    "plt.title(' Turnover per team', size=20)\n",
    "plt.legend([\"Home\", \"Away\",\"Neutral\"],loc=0)\n",
    "plt.show()"
   ]
  },
  {
   "cell_type": "markdown",
   "metadata": {},
   "source": [
    "##  Conclusion\n",
    "\n",
    "The order at which team commits turnover is Away> Neutral > Home"
   ]
  },
  {
   "cell_type": "markdown",
   "metadata": {},
   "source": [
    "## Question 7\n",
    "\n",
    "7. Ranking the top 15 teams by the  no. of points scored in a season"
   ]
  },
  {
   "cell_type": "code",
   "execution_count": 826,
   "metadata": {},
   "outputs": [],
   "source": [
    "Teams =capstone[\"TeamName\"].unique()\n",
    "for year in range(2003,2019):\n",
    "    points_dict  = {team:0 for team in Teams}\n",
    "    results = capstone[capstone[\"Season\"]==year]\n",
    "    results.reset_index()\n",
    "    for i in range(0,len(results)):\n",
    "        points_dict[capstone['WTeamName'][i]] += capstone[\"WScore\"][i]\n",
    "        points_dict[capstone['LTeamName'][i]] += capstone[\"LScore\"][i]\n",
    "        "
   ]
  },
  {
   "cell_type": "code",
   "execution_count": 827,
   "metadata": {},
   "outputs": [],
   "source": [
    "Ranks={key:rank for rank, key in enumerate (sorted(points_dict,key=points_dict.get),1)}\n"
   ]
  },
  {
   "cell_type": "code",
   "execution_count": 828,
   "metadata": {},
   "outputs": [
    {
     "data": {
      "image/png": "[encoded data removed]",
      "text/plain": [
       "<Figure size 720x360 with 1 Axes>"
      ]
     },
     "metadata": {
      "needs_background": "light"
     },
     "output_type": "display_data"
    }
   ],
   "source": [
    "Rank = {A:N for (A,N) in [x for x in points_dict.items()][:15]}\n",
    "labels = []\n",
    "numbers = []\n",
    "total = 0\n",
    "for key, value in Rank.items():\n",
    "    labels.append(key)\n",
    "    numbers.append(value)\n",
    "    total += value\n",
    "index = np.arange(len(labels))\n",
    "plt.figure(figsize=(10,5))\n",
    "plt.barh(index,numbers)\n",
    "for i, v in enumerate(numbers):\n",
    "    plt.text(v + 0.2, i , str(v), color='black', fontweight='bold')\n",
    "plt.yticks(index, labels, fontsize=10, rotation=0)\n",
    "\n",
    "plt.title(\"Teams with highest number of points scored per season\")\n",
    "plt.show()\n"
   ]
  },
  {
   "cell_type": "code",
   "execution_count": null,
   "metadata": {},
   "outputs": [],
   "source": []
  }
 ],
 "metadata": {
  "kernelspec": {
   "display_name": "Python 3",
   "language": "python",
   "name": "python3"
  },
  "language_info": {
   "codemirror_mode": {
    "name": "ipython",
    "version": 3
   },
   "file_extension": ".py",
   "mimetype": "text/x-python",
   "name": "python",
   "nbconvert_exporter": "python",
   "pygments_lexer": "ipython3",
   "version": "3.7.4"
  }
 },
 "nbformat": 4,
 "nbformat_minor": 2
}
