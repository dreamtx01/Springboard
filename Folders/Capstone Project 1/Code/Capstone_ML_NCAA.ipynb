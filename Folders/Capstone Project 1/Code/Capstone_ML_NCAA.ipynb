{
  "nbformat": 4,
  "nbformat_minor": 0,
  "metadata": {
    "colab": {
      "name": "Capstone_ML_NCAA.ipynb",
      "provenance": [],
      "authorship_tag": "ABX9TyNxl+qfiZyggVXzBLhoNTUK",
      "include_colab_link": true
    },
    "kernelspec": {
      "name": "python3",
      "display_name": "Python 3"
    }
  },
  "cells": [
    {
      "cell_type": "markdown",
      "metadata": {
        "id": "view-in-github",
        "colab_type": "text"
      },
      "source": [
        "<a href=\"https://colab.research.google.com/github/dreamtx01/Springboard/blob/master/Capstone_ML_NCAA.ipynb\" target=\"_parent\"><img src=\"https://colab.research.google.com/assets/colab-badge.svg\" alt=\"Open In Colab\"/></a>"
      ]
    },
    {
      "cell_type": "markdown",
      "metadata": {
        "id": "TSGoP8aM8KZm",
        "colab_type": "text"
      },
      "source": [
        ""
      ]
    },
    {
      "cell_type": "code",
      "metadata": {
        "id": "p7K6eztsE81x",
        "colab_type": "code",
        "outputId": "dc051d54-d530-4b77-a4cc-d9e2ec51a549",
        "colab": {
          "base_uri": "https://localhost:8080/",
          "height": 88
        }
      },
      "source": [
        "%matplotlib inline\n",
        "import numpy as np\n",
        "import scipy as sp\n",
        "import matplotlib as mpl\n",
        "import matplotlib.cm as cm\n",
        "from matplotlib.colors import ListedColormap\n",
        "import matplotlib.pyplot as plt\n",
        "import pandas as pd\n",
        "pd.set_option('display.width', 500)\n",
        "pd.set_option('display.max_columns', 100)\n",
        "pd.set_option('display.notebook_repr_html', True)\n",
        "import seaborn as sns\n",
        "sns.set_style(\"whitegrid\")\n",
        "sns.set_context(\"poster\")\n",
        "import sklearn.model_selection\n",
        "\n",
        "c0=sns.color_palette()[0]\n",
        "c1=sns.color_palette()[1]\n",
        "c2=sns.color_palette()[2]\n",
        "\n",
        "cmap_light = ListedColormap(['#FFAAAA', '#AAFFAA', '#AAAAFF'])\n",
        "cmap_bold = ListedColormap(['#FF0000', '#00FF00', '#0000FF'])\n",
        "cm = plt.cm.RdBu\n",
        "cm_bright = ListedColormap(['#FF0000', '#0000FF'])\n",
        "\n",
        "def points_plot(ax, Xtr, Xte, ytr, yte, clf, mesh=True, colorscale=cmap_light, \n",
        "                cdiscrete=cmap_bold, alpha=0.1, psize=10, zfunc=False, predicted=False):\n",
        "    h = .02\n",
        "    X=np.concatenate((Xtr, Xte))\n",
        "    x_min, x_max = X[:, 0].min() - .5, X[:, 0].max() + .5\n",
        "    y_min, y_max = X[:, 1].min() - .5, X[:, 1].max() + .5\n",
        "    xx, yy = np.meshgrid(np.linspace(x_min, x_max, 100),\n",
        "                         np.linspace(y_min, y_max, 100))\n",
        "\n",
        "    #plt.figure(figsize=(10,6))\n",
        "    if zfunc:\n",
        "        p0 = clf.predict_proba(np.c_[xx.ravel(), yy.ravel()])[:, 0]\n",
        "        p1 = clf.predict_proba(np.c_[xx.ravel(), yy.ravel()])[:, 1]\n",
        "        Z=zfunc(p0, p1)\n",
        "    else:\n",
        "        Z = clf.predict(np.c_[xx.ravel(), yy.ravel()])\n",
        "    ZZ = Z.reshape(xx.shape)\n",
        "    if mesh:\n",
        "        plt.pcolormesh(xx, yy, ZZ, cmap=cmap_light, alpha=alpha, axes=ax)\n",
        "    if predicted:\n",
        "        showtr = clf.predict(Xtr)\n",
        "        showte = clf.predict(Xte)\n",
        "    else:\n",
        "        showtr = ytr\n",
        "        showte = yte\n",
        "    ax.scatter(Xtr[:, 0], Xtr[:, 1], c=showtr-1, cmap=cmap_bold, \n",
        "               s=psize, alpha=alpha,edgecolor=\"k\")\n",
        "    # and testing points\n",
        "    ax.scatter(Xte[:, 0], Xte[:, 1], c=showte-1, cmap=cmap_bold, \n",
        "               alpha=alpha, marker=\"s\", s=psize+10)\n",
        "    ax.set_xlim(xx.min(), xx.max())\n",
        "    ax.set_ylim(yy.min(), yy.max())\n",
        "    return ax,xx,yy\n",
        "\n",
        "def points_plot_prob(ax, Xtr, Xte, ytr, yte, clf, colorscale=cmap_light, \n",
        "                     cdiscrete=cmap_bold, ccolor=cm, psize=10, alpha=0.1):\n",
        "    ax,xx,yy = points_plot(ax, Xtr, Xte, ytr, yte, clf, mesh=False, \n",
        "                           colorscale=colorscale, cdiscrete=cdiscrete, \n",
        "                           psize=psize, alpha=alpha, predicted=True) \n",
        "    Z = clf.predict_proba(np.c_[xx.ravel(), yy.ravel()])[:, 1]\n",
        "    Z = Z.reshape(xx.shape)\n",
        "    plt.contourf(xx, yy, Z, cmap=ccolor, alpha=.2, axes=ax)\n",
        "    cs2 = plt.contour(xx, yy, Z, cmap=ccolor, alpha=.6, axes=ax)\n",
        "    plt.clabel(cs2, fmt = '%2.1f', colors = 'k', fontsize=14, axes=ax)\n",
        "    return ax \n",
        "\n",
        "print(\"Loaded\")"
      ],
      "execution_count": 1,
      "outputs": [
        {
          "output_type": "stream",
          "text": [
            "Loaded\n"
          ],
          "name": "stdout"
        },
        {
          "output_type": "stream",
          "text": [
            "/usr/local/lib/python3.6/dist-packages/statsmodels/tools/_testing.py:19: FutureWarning: pandas.util.testing is deprecated. Use the functions in the public API at pandas.testing instead.\n",
            "  import pandas.util.testing as tm\n"
          ],
          "name": "stderr"
        }
      ]
    },
    {
      "cell_type": "code",
      "metadata": {
        "id": "W42kBgCRF8-V",
        "colab_type": "code",
        "colab": {}
      },
      "source": [
        "capstone = pd.read_csv(\"RegularSeasonDetailedResults.csv\")\n",
        "cap = pd.read_csv(\"TeamSpellings.csv\",encoding=\"latin\")"
      ],
      "execution_count": 0,
      "outputs": []
    },
    {
      "cell_type": "code",
      "metadata": {
        "id": "rd_-G5rhyX8Z",
        "colab_type": "code",
        "colab": {}
      },
      "source": [
        "\n",
        "# The first thing to do is to associate TeamID to the name of the team. \n",
        "#This will help us put a name to the team\n",
        "dic = {}\n",
        "for i in range(0,len(cap[\"TeamID\"])):\n",
        "    dic[cap[\"TeamID\"][i]]=cap['TeamNameSpelling'][i]\n",
        "capstone[\"WTeamName\"]=[dic[teamid] for teamid in capstone['WTeamID']]\n",
        "capstone[\"LTeamName\"]=[dic[teamid] for teamid in capstone['LTeamID']]"
      ],
      "execution_count": 0,
      "outputs": []
    },
    {
      "cell_type": "code",
      "metadata": {
        "id": "2EMWmPoOFNW5",
        "colab_type": "code",
        "colab": {}
      },
      "source": [
        "capstone['WTeamID'] = np.where(capstone['WScore']>=capstone['WScore'], \n",
        "                                           'W', 'L')\n",
        "capstone['LTeamID'] = np.where(capstone['LScore']<=capstone['WScore'], \n",
        "                                            'L', \"W\")"
      ],
      "execution_count": 0,
      "outputs": []
    },
    {
      "cell_type": "code",
      "metadata": {
        "id": "IwgHaZItsYu8",
        "colab_type": "code",
        "colab": {}
      },
      "source": [
        "\n",
        "result=pd.concat([capstone,capstone])\n"
      ],
      "execution_count": 0,
      "outputs": []
    },
    {
      "cell_type": "code",
      "metadata": {
        "id": "RsoDiFTklWqm",
        "colab_type": "code",
        "colab": {}
      },
      "source": [
        "result.reset_index(inplace=True,drop=True)\n"
      ],
      "execution_count": 0,
      "outputs": []
    },
    {
      "cell_type": "code",
      "metadata": {
        "id": "96K-5LJwu6CA",
        "colab_type": "code",
        "outputId": "c793b66c-81a4-4ca5-d32b-c18b23e73b02",
        "colab": {
          "base_uri": "https://localhost:8080/",
          "height": 122
        }
      },
      "source": [
        "result.WTeamID[82041:]=[\"L\"]*82041\n"
      ],
      "execution_count": 7,
      "outputs": [
        {
          "output_type": "stream",
          "text": [
            "/usr/local/lib/python3.6/dist-packages/ipykernel_launcher.py:1: SettingWithCopyWarning: \n",
            "A value is trying to be set on a copy of a slice from a DataFrame\n",
            "\n",
            "See the caveats in the documentation: https://pandas.pydata.org/pandas-docs/stable/user_guide/indexing.html#returning-a-view-versus-a-copy\n",
            "  \"\"\"Entry point for launching an IPython kernel.\n"
          ],
          "name": "stderr"
        }
      ]
    },
    {
      "cell_type": "code",
      "metadata": {
        "id": "saTOWSNsG6Mw",
        "colab_type": "code",
        "colab": {}
      },
      "source": [
        "result=result.drop(columns=['LTeamID'])\n"
      ],
      "execution_count": 0,
      "outputs": []
    },
    {
      "cell_type": "code",
      "metadata": {
        "id": "7pUKYDb9OmUk",
        "colab_type": "code",
        "colab": {
          "base_uri": "https://localhost:8080/",
          "height": 473
        },
        "outputId": "1ffc1ef6-4885-4a93-aeed-ad2bd8b07b50"
      },
      "source": [
        "result=result.rename(columns={\"WTeamID\": \"Score\"})\n",
        "result"
      ],
      "execution_count": 9,
      "outputs": [
        {
          "output_type": "execute_result",
          "data": {
            "text/html": [
              "<div>\n",
              "<style scoped>\n",
              "    .dataframe tbody tr th:only-of-type {\n",
              "        vertical-align: middle;\n",
              "    }\n",
              "\n",
              "    .dataframe tbody tr th {\n",
              "        vertical-align: top;\n",
              "    }\n",
              "\n",
              "    .dataframe thead th {\n",
              "        text-align: right;\n",
              "    }\n",
              "</style>\n",
              "<table border=\"1\" class=\"dataframe\">\n",
              "  <thead>\n",
              "    <tr style=\"text-align: right;\">\n",
              "      <th></th>\n",
              "      <th>Season</th>\n",
              "      <th>DayNum</th>\n",
              "      <th>Score</th>\n",
              "      <th>WScore</th>\n",
              "      <th>LScore</th>\n",
              "      <th>WLoc</th>\n",
              "      <th>NumOT</th>\n",
              "      <th>WFGM</th>\n",
              "      <th>WFGA</th>\n",
              "      <th>WFGM3</th>\n",
              "      <th>WFGA3</th>\n",
              "      <th>WFTM</th>\n",
              "      <th>WFTA</th>\n",
              "      <th>WOR</th>\n",
              "      <th>WDR</th>\n",
              "      <th>WAst</th>\n",
              "      <th>WTO</th>\n",
              "      <th>WStl</th>\n",
              "      <th>WBlk</th>\n",
              "      <th>WPF</th>\n",
              "      <th>LFGM</th>\n",
              "      <th>LFGA</th>\n",
              "      <th>LFGM3</th>\n",
              "      <th>LFGA3</th>\n",
              "      <th>LFTM</th>\n",
              "      <th>LFTA</th>\n",
              "      <th>LOR</th>\n",
              "      <th>LDR</th>\n",
              "      <th>LAst</th>\n",
              "      <th>LTO</th>\n",
              "      <th>LStl</th>\n",
              "      <th>LBlk</th>\n",
              "      <th>LPF</th>\n",
              "      <th>WTeamName</th>\n",
              "      <th>LTeamName</th>\n",
              "    </tr>\n",
              "  </thead>\n",
              "  <tbody>\n",
              "    <tr>\n",
              "      <th>0</th>\n",
              "      <td>2003</td>\n",
              "      <td>10</td>\n",
              "      <td>W</td>\n",
              "      <td>68</td>\n",
              "      <td>62</td>\n",
              "      <td>N</td>\n",
              "      <td>0</td>\n",
              "      <td>27</td>\n",
              "      <td>58</td>\n",
              "      <td>3</td>\n",
              "      <td>14</td>\n",
              "      <td>11</td>\n",
              "      <td>18</td>\n",
              "      <td>14</td>\n",
              "      <td>24</td>\n",
              "      <td>13</td>\n",
              "      <td>23</td>\n",
              "      <td>7</td>\n",
              "      <td>1</td>\n",
              "      <td>22</td>\n",
              "      <td>22</td>\n",
              "      <td>53</td>\n",
              "      <td>2</td>\n",
              "      <td>10</td>\n",
              "      <td>16</td>\n",
              "      <td>22</td>\n",
              "      <td>10</td>\n",
              "      <td>22</td>\n",
              "      <td>8</td>\n",
              "      <td>18</td>\n",
              "      <td>9</td>\n",
              "      <td>2</td>\n",
              "      <td>20</td>\n",
              "      <td>alabama</td>\n",
              "      <td>oklahoma</td>\n",
              "    </tr>\n",
              "    <tr>\n",
              "      <th>1</th>\n",
              "      <td>2003</td>\n",
              "      <td>10</td>\n",
              "      <td>W</td>\n",
              "      <td>70</td>\n",
              "      <td>63</td>\n",
              "      <td>N</td>\n",
              "      <td>0</td>\n",
              "      <td>26</td>\n",
              "      <td>62</td>\n",
              "      <td>8</td>\n",
              "      <td>20</td>\n",
              "      <td>10</td>\n",
              "      <td>19</td>\n",
              "      <td>15</td>\n",
              "      <td>28</td>\n",
              "      <td>16</td>\n",
              "      <td>13</td>\n",
              "      <td>4</td>\n",
              "      <td>4</td>\n",
              "      <td>18</td>\n",
              "      <td>24</td>\n",
              "      <td>67</td>\n",
              "      <td>6</td>\n",
              "      <td>24</td>\n",
              "      <td>9</td>\n",
              "      <td>20</td>\n",
              "      <td>20</td>\n",
              "      <td>25</td>\n",
              "      <td>7</td>\n",
              "      <td>12</td>\n",
              "      <td>8</td>\n",
              "      <td>6</td>\n",
              "      <td>16</td>\n",
              "      <td>memphis</td>\n",
              "      <td>syracuse</td>\n",
              "    </tr>\n",
              "    <tr>\n",
              "      <th>2</th>\n",
              "      <td>2003</td>\n",
              "      <td>11</td>\n",
              "      <td>W</td>\n",
              "      <td>73</td>\n",
              "      <td>61</td>\n",
              "      <td>N</td>\n",
              "      <td>0</td>\n",
              "      <td>24</td>\n",
              "      <td>58</td>\n",
              "      <td>8</td>\n",
              "      <td>18</td>\n",
              "      <td>17</td>\n",
              "      <td>29</td>\n",
              "      <td>17</td>\n",
              "      <td>26</td>\n",
              "      <td>15</td>\n",
              "      <td>10</td>\n",
              "      <td>5</td>\n",
              "      <td>2</td>\n",
              "      <td>25</td>\n",
              "      <td>22</td>\n",
              "      <td>73</td>\n",
              "      <td>3</td>\n",
              "      <td>26</td>\n",
              "      <td>14</td>\n",
              "      <td>23</td>\n",
              "      <td>31</td>\n",
              "      <td>22</td>\n",
              "      <td>9</td>\n",
              "      <td>12</td>\n",
              "      <td>2</td>\n",
              "      <td>5</td>\n",
              "      <td>23</td>\n",
              "      <td>marquette</td>\n",
              "      <td>villanova</td>\n",
              "    </tr>\n",
              "    <tr>\n",
              "      <th>3</th>\n",
              "      <td>2003</td>\n",
              "      <td>11</td>\n",
              "      <td>W</td>\n",
              "      <td>56</td>\n",
              "      <td>50</td>\n",
              "      <td>N</td>\n",
              "      <td>0</td>\n",
              "      <td>18</td>\n",
              "      <td>38</td>\n",
              "      <td>3</td>\n",
              "      <td>9</td>\n",
              "      <td>17</td>\n",
              "      <td>31</td>\n",
              "      <td>6</td>\n",
              "      <td>19</td>\n",
              "      <td>11</td>\n",
              "      <td>12</td>\n",
              "      <td>14</td>\n",
              "      <td>2</td>\n",
              "      <td>18</td>\n",
              "      <td>18</td>\n",
              "      <td>49</td>\n",
              "      <td>6</td>\n",
              "      <td>22</td>\n",
              "      <td>8</td>\n",
              "      <td>15</td>\n",
              "      <td>17</td>\n",
              "      <td>20</td>\n",
              "      <td>9</td>\n",
              "      <td>19</td>\n",
              "      <td>4</td>\n",
              "      <td>3</td>\n",
              "      <td>23</td>\n",
              "      <td>northern-illinois</td>\n",
              "      <td>winthrop</td>\n",
              "    </tr>\n",
              "    <tr>\n",
              "      <th>4</th>\n",
              "      <td>2003</td>\n",
              "      <td>11</td>\n",
              "      <td>W</td>\n",
              "      <td>77</td>\n",
              "      <td>71</td>\n",
              "      <td>N</td>\n",
              "      <td>0</td>\n",
              "      <td>30</td>\n",
              "      <td>61</td>\n",
              "      <td>6</td>\n",
              "      <td>14</td>\n",
              "      <td>11</td>\n",
              "      <td>13</td>\n",
              "      <td>17</td>\n",
              "      <td>22</td>\n",
              "      <td>12</td>\n",
              "      <td>14</td>\n",
              "      <td>4</td>\n",
              "      <td>4</td>\n",
              "      <td>20</td>\n",
              "      <td>24</td>\n",
              "      <td>62</td>\n",
              "      <td>6</td>\n",
              "      <td>16</td>\n",
              "      <td>17</td>\n",
              "      <td>27</td>\n",
              "      <td>21</td>\n",
              "      <td>15</td>\n",
              "      <td>12</td>\n",
              "      <td>10</td>\n",
              "      <td>7</td>\n",
              "      <td>1</td>\n",
              "      <td>14</td>\n",
              "      <td>texas</td>\n",
              "      <td>georgia</td>\n",
              "    </tr>\n",
              "    <tr>\n",
              "      <th>...</th>\n",
              "      <td>...</td>\n",
              "      <td>...</td>\n",
              "      <td>...</td>\n",
              "      <td>...</td>\n",
              "      <td>...</td>\n",
              "      <td>...</td>\n",
              "      <td>...</td>\n",
              "      <td>...</td>\n",
              "      <td>...</td>\n",
              "      <td>...</td>\n",
              "      <td>...</td>\n",
              "      <td>...</td>\n",
              "      <td>...</td>\n",
              "      <td>...</td>\n",
              "      <td>...</td>\n",
              "      <td>...</td>\n",
              "      <td>...</td>\n",
              "      <td>...</td>\n",
              "      <td>...</td>\n",
              "      <td>...</td>\n",
              "      <td>...</td>\n",
              "      <td>...</td>\n",
              "      <td>...</td>\n",
              "      <td>...</td>\n",
              "      <td>...</td>\n",
              "      <td>...</td>\n",
              "      <td>...</td>\n",
              "      <td>...</td>\n",
              "      <td>...</td>\n",
              "      <td>...</td>\n",
              "      <td>...</td>\n",
              "      <td>...</td>\n",
              "      <td>...</td>\n",
              "      <td>...</td>\n",
              "      <td>...</td>\n",
              "    </tr>\n",
              "    <tr>\n",
              "      <th>164077</th>\n",
              "      <td>2018</td>\n",
              "      <td>132</td>\n",
              "      <td>L</td>\n",
              "      <td>56</td>\n",
              "      <td>55</td>\n",
              "      <td>N</td>\n",
              "      <td>0</td>\n",
              "      <td>20</td>\n",
              "      <td>46</td>\n",
              "      <td>4</td>\n",
              "      <td>14</td>\n",
              "      <td>12</td>\n",
              "      <td>19</td>\n",
              "      <td>9</td>\n",
              "      <td>24</td>\n",
              "      <td>8</td>\n",
              "      <td>13</td>\n",
              "      <td>4</td>\n",
              "      <td>5</td>\n",
              "      <td>13</td>\n",
              "      <td>19</td>\n",
              "      <td>55</td>\n",
              "      <td>7</td>\n",
              "      <td>23</td>\n",
              "      <td>10</td>\n",
              "      <td>12</td>\n",
              "      <td>9</td>\n",
              "      <td>20</td>\n",
              "      <td>12</td>\n",
              "      <td>12</td>\n",
              "      <td>8</td>\n",
              "      <td>2</td>\n",
              "      <td>19</td>\n",
              "      <td>cincinnati</td>\n",
              "      <td>houston</td>\n",
              "    </tr>\n",
              "    <tr>\n",
              "      <th>164078</th>\n",
              "      <td>2018</td>\n",
              "      <td>132</td>\n",
              "      <td>L</td>\n",
              "      <td>58</td>\n",
              "      <td>57</td>\n",
              "      <td>N</td>\n",
              "      <td>0</td>\n",
              "      <td>19</td>\n",
              "      <td>50</td>\n",
              "      <td>6</td>\n",
              "      <td>18</td>\n",
              "      <td>14</td>\n",
              "      <td>16</td>\n",
              "      <td>6</td>\n",
              "      <td>26</td>\n",
              "      <td>9</td>\n",
              "      <td>12</td>\n",
              "      <td>4</td>\n",
              "      <td>4</td>\n",
              "      <td>14</td>\n",
              "      <td>20</td>\n",
              "      <td>52</td>\n",
              "      <td>8</td>\n",
              "      <td>23</td>\n",
              "      <td>9</td>\n",
              "      <td>17</td>\n",
              "      <td>11</td>\n",
              "      <td>26</td>\n",
              "      <td>12</td>\n",
              "      <td>14</td>\n",
              "      <td>3</td>\n",
              "      <td>4</td>\n",
              "      <td>16</td>\n",
              "      <td>davidson</td>\n",
              "      <td>rhode-island</td>\n",
              "    </tr>\n",
              "    <tr>\n",
              "      <th>164079</th>\n",
              "      <td>2018</td>\n",
              "      <td>132</td>\n",
              "      <td>L</td>\n",
              "      <td>74</td>\n",
              "      <td>61</td>\n",
              "      <td>N</td>\n",
              "      <td>0</td>\n",
              "      <td>25</td>\n",
              "      <td>56</td>\n",
              "      <td>8</td>\n",
              "      <td>17</td>\n",
              "      <td>16</td>\n",
              "      <td>20</td>\n",
              "      <td>8</td>\n",
              "      <td>23</td>\n",
              "      <td>9</td>\n",
              "      <td>8</td>\n",
              "      <td>12</td>\n",
              "      <td>5</td>\n",
              "      <td>21</td>\n",
              "      <td>17</td>\n",
              "      <td>57</td>\n",
              "      <td>4</td>\n",
              "      <td>25</td>\n",
              "      <td>23</td>\n",
              "      <td>28</td>\n",
              "      <td>19</td>\n",
              "      <td>24</td>\n",
              "      <td>9</td>\n",
              "      <td>13</td>\n",
              "      <td>1</td>\n",
              "      <td>5</td>\n",
              "      <td>16</td>\n",
              "      <td>georgia-state</td>\n",
              "      <td>ut-arlington</td>\n",
              "    </tr>\n",
              "    <tr>\n",
              "      <th>164080</th>\n",
              "      <td>2018</td>\n",
              "      <td>132</td>\n",
              "      <td>L</td>\n",
              "      <td>77</td>\n",
              "      <td>72</td>\n",
              "      <td>N</td>\n",
              "      <td>0</td>\n",
              "      <td>25</td>\n",
              "      <td>50</td>\n",
              "      <td>7</td>\n",
              "      <td>16</td>\n",
              "      <td>20</td>\n",
              "      <td>24</td>\n",
              "      <td>11</td>\n",
              "      <td>21</td>\n",
              "      <td>9</td>\n",
              "      <td>10</td>\n",
              "      <td>6</td>\n",
              "      <td>6</td>\n",
              "      <td>19</td>\n",
              "      <td>23</td>\n",
              "      <td>62</td>\n",
              "      <td>10</td>\n",
              "      <td>27</td>\n",
              "      <td>16</td>\n",
              "      <td>20</td>\n",
              "      <td>18</td>\n",
              "      <td>16</td>\n",
              "      <td>14</td>\n",
              "      <td>10</td>\n",
              "      <td>4</td>\n",
              "      <td>3</td>\n",
              "      <td>21</td>\n",
              "      <td>kentucky</td>\n",
              "      <td>tennessee</td>\n",
              "    </tr>\n",
              "    <tr>\n",
              "      <th>164081</th>\n",
              "      <td>2018</td>\n",
              "      <td>132</td>\n",
              "      <td>L</td>\n",
              "      <td>68</td>\n",
              "      <td>65</td>\n",
              "      <td>N</td>\n",
              "      <td>0</td>\n",
              "      <td>24</td>\n",
              "      <td>52</td>\n",
              "      <td>8</td>\n",
              "      <td>18</td>\n",
              "      <td>12</td>\n",
              "      <td>16</td>\n",
              "      <td>3</td>\n",
              "      <td>27</td>\n",
              "      <td>10</td>\n",
              "      <td>7</td>\n",
              "      <td>3</td>\n",
              "      <td>3</td>\n",
              "      <td>14</td>\n",
              "      <td>23</td>\n",
              "      <td>55</td>\n",
              "      <td>7</td>\n",
              "      <td>18</td>\n",
              "      <td>12</td>\n",
              "      <td>12</td>\n",
              "      <td>5</td>\n",
              "      <td>29</td>\n",
              "      <td>6</td>\n",
              "      <td>8</td>\n",
              "      <td>2</td>\n",
              "      <td>2</td>\n",
              "      <td>17</td>\n",
              "      <td>pennsylvania</td>\n",
              "      <td>harvard</td>\n",
              "    </tr>\n",
              "  </tbody>\n",
              "</table>\n",
              "<p>164082 rows × 35 columns</p>\n",
              "</div>"
            ],
            "text/plain": [
              "        Season  DayNum Score  WScore  LScore WLoc  NumOT  WFGM  WFGA  WFGM3  WFGA3  WFTM  WFTA  WOR  WDR  WAst  WTO  WStl  WBlk  WPF  LFGM  LFGA  LFGM3  LFGA3  LFTM  LFTA  LOR  LDR  LAst  LTO  LStl  LBlk  LPF          WTeamName     LTeamName\n",
              "0         2003      10     W      68      62    N      0    27    58      3     14    11    18   14   24    13   23     7     1   22    22    53      2     10    16    22   10   22     8   18     9     2   20            alabama      oklahoma\n",
              "1         2003      10     W      70      63    N      0    26    62      8     20    10    19   15   28    16   13     4     4   18    24    67      6     24     9    20   20   25     7   12     8     6   16            memphis      syracuse\n",
              "2         2003      11     W      73      61    N      0    24    58      8     18    17    29   17   26    15   10     5     2   25    22    73      3     26    14    23   31   22     9   12     2     5   23          marquette     villanova\n",
              "3         2003      11     W      56      50    N      0    18    38      3      9    17    31    6   19    11   12    14     2   18    18    49      6     22     8    15   17   20     9   19     4     3   23  northern-illinois      winthrop\n",
              "4         2003      11     W      77      71    N      0    30    61      6     14    11    13   17   22    12   14     4     4   20    24    62      6     16    17    27   21   15    12   10     7     1   14              texas       georgia\n",
              "...        ...     ...   ...     ...     ...  ...    ...   ...   ...    ...    ...   ...   ...  ...  ...   ...  ...   ...   ...  ...   ...   ...    ...    ...   ...   ...  ...  ...   ...  ...   ...   ...  ...                ...           ...\n",
              "164077    2018     132     L      56      55    N      0    20    46      4     14    12    19    9   24     8   13     4     5   13    19    55      7     23    10    12    9   20    12   12     8     2   19         cincinnati       houston\n",
              "164078    2018     132     L      58      57    N      0    19    50      6     18    14    16    6   26     9   12     4     4   14    20    52      8     23     9    17   11   26    12   14     3     4   16           davidson  rhode-island\n",
              "164079    2018     132     L      74      61    N      0    25    56      8     17    16    20    8   23     9    8    12     5   21    17    57      4     25    23    28   19   24     9   13     1     5   16      georgia-state  ut-arlington\n",
              "164080    2018     132     L      77      72    N      0    25    50      7     16    20    24   11   21     9   10     6     6   19    23    62     10     27    16    20   18   16    14   10     4     3   21           kentucky     tennessee\n",
              "164081    2018     132     L      68      65    N      0    24    52      8     18    12    16    3   27    10    7     3     3   14    23    55      7     18    12    12    5   29     6    8     2     2   17       pennsylvania       harvard\n",
              "\n",
              "[164082 rows x 35 columns]"
            ]
          },
          "metadata": {
            "tags": []
          },
          "execution_count": 9
        }
      ]
    },
    {
      "cell_type": "code",
      "metadata": {
        "id": "i-e-W60sIIfh",
        "colab_type": "code",
        "colab": {}
      },
      "source": [
        "y = result['Score'] # Score"
      ],
      "execution_count": 0,
      "outputs": []
    },
    {
      "cell_type": "code",
      "metadata": {
        "id": "1AEUtJqDIITk",
        "colab_type": "code",
        "outputId": "609869e7-0724-4a8d-baf1-93489ef74d6a",
        "colab": {
          "base_uri": "https://localhost:8080/",
          "height": 34
        }
      },
      "source": [
        "from sklearn.model_selection import train_test_split\n",
        "from sklearn.linear_model import LogisticRegression\n",
        "from sklearn.metrics import accuracy_score\n",
        "\n",
        "X = result[['WAst','LAst','WFGM','LFGM']].values\n",
        "print(\"X: \", type(X), X.shape)"
      ],
      "execution_count": 12,
      "outputs": [
        {
          "output_type": "stream",
          "text": [
            "X:  <class 'numpy.ndarray'> (164082, 4)\n"
          ],
          "name": "stdout"
        }
      ]
    },
    {
      "cell_type": "code",
      "metadata": {
        "id": "kj8AiOTMIIFd",
        "colab_type": "code",
        "outputId": "11c0a633-54ce-42d9-f763-469a4bc34ccb",
        "colab": {
          "base_uri": "https://localhost:8080/",
          "height": 51
        }
      },
      "source": [
        "# define the second parameter, investigate its type and shape\n",
        "# and also compare its shape with that of the dataframe it comes from ...\n",
        "y = (result.Score == \"W\").values\n",
        "\n",
        "# notice that, by construction, y will have value True in positions where\n",
        "# the value for the \"Score\" column of the dataframe is \"Win\", and False\n",
        "# otherwise\n",
        "\n",
        "print(\"y: \", type(y), y.shape)\n",
        "print(\"result.Score shape: \", result.Score.shape)"
      ],
      "execution_count": 13,
      "outputs": [
        {
          "output_type": "stream",
          "text": [
            "y:  <class 'numpy.ndarray'> (164082,)\n",
            "result.Score shape:  (164082,)\n"
          ],
          "name": "stdout"
        }
      ]
    },
    {
      "cell_type": "code",
      "metadata": {
        "id": "0XHccKwWIH_l",
        "colab_type": "code",
        "colab": {}
      },
      "source": [
        "# Split the data into a training and test set.\n",
        "Xlr, Xtestlr, ylr, ytestlr = train_test_split(X, y, random_state=5)"
      ],
      "execution_count": 0,
      "outputs": []
    },
    {
      "cell_type": "code",
      "metadata": {
        "id": "bOWQ2gcJNJiv",
        "colab_type": "code",
        "outputId": "2f5dae33-b49e-455a-f9a3-29a83c81abc4",
        "colab": {
          "base_uri": "https://localhost:8080/",
          "height": 425
        }
      },
      "source": [
        "# \n",
        "print(\"\\n\")\n",
        "print(\"Xlr:\", Xlr, type(Xlr), Xlr.shape, len(Xlr)) #TrainX\n",
        "\n",
        "\n",
        "print(\"\\n\")\n",
        "print(\"Xtestlr\", Xtestlr, type(Xtestlr), Xtestlr.shape, len(Xtestlr)) #TestX\n",
        "\n",
        "# \n",
        "print(\"\\n\")\n",
        "print(\"ylr\", ylr, type(ylr), ylr.shape, len(ylr)) #Trainy\n",
        "\n",
        "# \n",
        "print(\"\\n\")\n",
        "print(\"ytestlr\", ytestlr, type(ytestlr), ytestlr.shape, len(ytestlr)) #Testy\n",
        "\n",
        "\n",
        "# By default train_test_split splits to 75% train and 25% test\n",
        "# Random state set to a fixed number will guarantee \n",
        "# that the output of Run 1 will be equal to the output of Run 2, \n",
        "# i.e. your split will be always the same"
      ],
      "execution_count": 15,
      "outputs": [
        {
          "output_type": "stream",
          "text": [
            "\n",
            "\n",
            "Xlr: [[13 10 31 28]\n",
            " [13 15 27 29]\n",
            " [11 13 25 26]\n",
            " ...\n",
            " [12 18 24 29]\n",
            " [17  5 28 12]\n",
            " [20  8 30 16]] <class 'numpy.ndarray'> (123061, 4) 123061\n",
            "\n",
            "\n",
            "Xtestlr [[ 8  9 20 23]\n",
            " [17  7 21 16]\n",
            " [11 11 21 17]\n",
            " ...\n",
            " [11 14 20 23]\n",
            " [15  8 23 18]\n",
            " [15  6 24 22]] <class 'numpy.ndarray'> (41021, 4) 41021\n",
            "\n",
            "\n",
            "ylr [False False False ...  True  True  True] <class 'numpy.ndarray'> (123061,) 123061\n",
            "\n",
            "\n",
            "ytestlr [False  True  True ... False False  True] <class 'numpy.ndarray'> (41021,) 41021\n"
          ],
          "name": "stdout"
        }
      ]
    },
    {
      "cell_type": "code",
      "metadata": {
        "id": "oJxOtUrONJry",
        "colab_type": "code",
        "outputId": "c6d4197f-cc9a-4a51-9592-64bd4890e7d9",
        "colab": {
          "base_uri": "https://localhost:8080/",
          "height": 170
        }
      },
      "source": [
        "# construct the LogisticRegression model\n",
        "clf = LogisticRegression()\n",
        "\n",
        "# Fit the model on the training data.\n",
        "clf.fit(Xlr, ylr) \n",
        "\n",
        "# Print the accuracy from the testing data.\n",
        "# AJS: introduce variable to be reused later\n",
        "y_predict_test = clf.predict(Xtestlr)\n",
        "print(\"\\n\")\n",
        "print(\"[Test] Accuracy score (y_predict_test, ytestlr):\",accuracy_score(y_predict_test, ytestlr))\n",
        "\n",
        "# Note the order in which the parameters must be passed\n",
        "# according to the documentation ... although there should be\n",
        "# no difference since it is a one-to-one comparison ...\n",
        "# ref: http://scikit-learn.org/stable/modules/generated/sklearn.metrics.accuracy_score.html#sklearn.metrics.accuracy_score\n",
        "print(\"\\n\")\n",
        "print(\"[Test] Accuracy score: (ytestlr, y_predict_test)\",accuracy_score(ytestlr, y_predict_test))\n",
        "\n",
        "# AJS: also printout the training score\n",
        "y_predict_training = clf.predict(Xlr)\n",
        "print(\"\\n\")\n",
        "print(\"[Training] Accuracy score: (ylr, y_predict_training)\",accuracy_score(ylr, y_predict_training))"
      ],
      "execution_count": 16,
      "outputs": [
        {
          "output_type": "stream",
          "text": [
            "\n",
            "\n",
            "[Test] Accuracy score (y_predict_test, ytestlr): 0.4957460812754443\n",
            "\n",
            "\n",
            "[Test] Accuracy score: (ytestlr, y_predict_test) 0.4957460812754443\n",
            "\n",
            "\n",
            "[Training] Accuracy score: (ylr, y_predict_training) 0.5014179959532264\n"
          ],
          "name": "stdout"
        }
      ]
    },
    {
      "cell_type": "code",
      "metadata": {
        "id": "SP3BX5TzNJx7",
        "colab_type": "code",
        "outputId": "44f2f415-3507-4ccd-be63-a53539bf09f2",
        "colab": {
          "base_uri": "https://localhost:8080/",
          "height": 332
        }
      },
      "source": [
        "# we try multiple splits and see the effects, with the same proportion 75% train and 25% test\n",
        "\n",
        "# keep lists for training accuracy, test accuracy, and the difference\n",
        "# between the latter and the former\n",
        "training_accuracy = []\n",
        "test_accuracy = []\n",
        "accuracy_difference = []\n",
        "\n",
        "# define number of trials\n",
        "n_splits = 1000\n",
        "\n",
        "# define LogisticRegression object\n",
        "clf = LogisticRegression()\n",
        "\n",
        "# loop over multiple trials\n",
        "for i in range(0, n_splits):\n",
        "    # do split for this iteration, using shuffle and a different random_state \n",
        "    # for every iteration\n",
        "    Xlr, Xtestlr, ylr, ytestlr = train_test_split(result[['WAst','LAst','WFGM','LFGM']].values, \n",
        "                                              (result.Score == \"W\").values,random_state=i)\n",
        "    # fit on the training set\n",
        "    clf.fit(Xlr, ylr)\n",
        "    \n",
        "    # predict on training set\n",
        "    y_predict_training = clf.predict(Xlr)\n",
        "    \n",
        "    # predict on test set\n",
        "    y_predict_test = clf.predict(Xtestlr)\n",
        "    \n",
        "    # save training accuracy for this split\n",
        "    tr_accuracy = accuracy_score(y_predict_training, ylr)\n",
        "    training_accuracy.append(tr_accuracy)\n",
        "    \n",
        "    # save test accuracy for this split\n",
        "    tst_accuracy = accuracy_score(y_predict_test, ytestlr)\n",
        "    test_accuracy.append(tst_accuracy)\n",
        "    \n",
        "    # save difference\n",
        "    accuracy_difference.append(tst_accuracy - tr_accuracy)\n",
        "#end for\n",
        "#\n",
        "# plot both curves\n",
        "# ref: https://matplotlib.org/users/pyplot_tutorial.html\n",
        "# parameter alpha below is a percentage of transparency\n",
        "# ref: https://matplotlib.org/users/legend_guide.html\n",
        "training_plot, = plt.plot(training_accuracy, 'b')\n",
        "test_plot, = plt.plot(test_accuracy, 'r', alpha = 0.35)\n",
        "plt.legend([training_plot, test_plot], ['Training Accuracy', 'Test Accuracy'])\n",
        "plt.ylabel('Training vs Test Accuracy')\n",
        "plt.show()"
      ],
      "execution_count": 17,
      "outputs": [
        {
          "output_type": "display_data",
          "data": {
            "image/png": "[encoded data removed]",
            "text/plain": [
              "<Figure size 432x288 with 1 Axes>"
            ]
          },
          "metadata": {
            "tags": [],
            "needs_background": "light"
          }
        }
      ]
    },
    {
      "cell_type": "code",
      "metadata": {
        "id": "UlhelbtYNJ-P",
        "colab_type": "code",
        "outputId": "a15e5b19-ba74-453c-ef67-667d3688c9af",
        "colab": {
          "base_uri": "https://localhost:8080/",
          "height": 430
        }
      },
      "source": [
        "#  show accuracy difference plot\n",
        "diff_plot, = plt.plot(accuracy_difference, 'y')\n",
        "plt.legend([diff_plot], ['Difference'])\n",
        "plt.ylabel('Test/Training Difference Accuracy')\n",
        "plt.show()"
      ],
      "execution_count": 18,
      "outputs": [
        {
          "output_type": "display_data",
          "data": {
            "image/png": "[encoded data removed]",
            "text/plain": [
              "<Figure size 432x288 with 1 Axes>"
            ]
          },
          "metadata": {
            "tags": [],
            "needs_background": "light"
          }
        }
      ]
    },
    {
      "cell_type": "code",
      "metadata": {
        "id": "Q42h1CzLNKfg",
        "colab_type": "code",
        "outputId": "e71d29b9-6052-43ea-f47b-6283a2706a76",
        "colab": {
          "base_uri": "https://localhost:8080/",
          "height": 357
        }
      },
      "source": [
        "# use sklearn.metrics.classification_report for a more comprehensive\n",
        "# performance analysis\n",
        "\n",
        "\n",
        "from sklearn.metrics import classification_report\n",
        "# ref: http://scikit-learn.org/stable/modules/generated/sklearn.metrics.classification_report.html#sklearn.metrics.classification_report\n",
        "\n",
        "print(\"[Training Classification Report]\")\n",
        "print(classification_report(ylr, y_predict_training))\n",
        "\n",
        "print(\"[Test Classification Report]\")\n",
        "print(classification_report(ytestlr, y_predict_test))"
      ],
      "execution_count": 19,
      "outputs": [
        {
          "output_type": "stream",
          "text": [
            "[Training Classification Report]\n",
            "              precision    recall  f1-score   support\n",
            "\n",
            "       False       0.50      0.66      0.57     61615\n",
            "        True       0.50      0.34      0.41     61446\n",
            "\n",
            "    accuracy                           0.50    123061\n",
            "   macro avg       0.50      0.50      0.49    123061\n",
            "weighted avg       0.50      0.50      0.49    123061\n",
            "\n",
            "[Test Classification Report]\n",
            "              precision    recall  f1-score   support\n",
            "\n",
            "       False       0.50      0.65      0.56     20426\n",
            "        True       0.50      0.34      0.41     20595\n",
            "\n",
            "    accuracy                           0.50     41021\n",
            "   macro avg       0.50      0.50      0.48     41021\n",
            "weighted avg       0.50      0.50      0.48     41021\n",
            "\n"
          ],
          "name": "stdout"
        }
      ]
    },
    {
      "cell_type": "code",
      "metadata": {
        "id": "zds9N5LYNKIU",
        "colab_type": "code",
        "outputId": "b240cc65-98ca-40a3-865f-3a75fd138e6a",
        "colab": {
          "base_uri": "https://localhost:8080/",
          "height": 337
        }
      },
      "source": [
        "# Import necessary modules\n",
        "from sklearn.metrics import roc_curve\n",
        "\n",
        "# Compute predicted probabilities: y_pred_prob\n",
        "y_pred_prob = clf.predict_proba(Xtestlr)[:,1]\n",
        "\n",
        "# Generate ROC curve values: fpr, tpr, thresholds\n",
        "fpr, tpr, thresholds = roc_curve(ytestlr, y_pred_prob)\n",
        "\n",
        "# Plot ROC curve\n",
        "plt.plot([0, 1], [0, 1], 'k--')\n",
        "plt.plot(fpr, tpr)\n",
        "plt.xlabel('False Positive Rate')\n",
        "plt.ylabel('True Positive Rate')\n",
        "plt.title('ROC Curve')\n",
        "plt.show()"
      ],
      "execution_count": 20,
      "outputs": [
        {
          "output_type": "display_data",
          "data": {
            "image/png": "[encoded data removed]",
            "text/plain": [
              "<Figure size 432x288 with 1 Axes>"
            ]
          },
          "metadata": {
            "tags": [],
            "needs_background": "light"
          }
        }
      ]
    },
    {
      "cell_type": "code",
      "metadata": {
        "id": "E1Oc4MpK64kE",
        "colab_type": "code",
        "colab": {
          "base_uri": "https://localhost:8080/",
          "height": 51
        },
        "outputId": "e846a648-0de2-465b-93a8-4201ffbddec1"
      },
      "source": [
        "# Import necessary modules\n",
        "from sklearn.model_selection import cross_val_score\n",
        "from sklearn.metrics import roc_auc_score\n",
        "# Compute predicted probabilities: y_pred_prob\n",
        "y_pred_prob = clf.predict_proba(Xtestlr)[:,1]\n",
        "\n",
        "# Compute and print AUC score\n",
        "print(\"AUC: {}\".format(roc_auc_score(ytestlr, y_pred_prob)))\n",
        "\n",
        "# Compute cross-validated AUC scores: cv_auc\n",
        "cv_auc = cross_val_score(clf,X,y,cv=5,scoring='roc_auc')\n",
        "\n",
        "# Print list of AUC scores\n",
        "print(\"AUC scores computed using 5-fold cross-validation: {}\".format(cv_auc))"
      ],
      "execution_count": 23,
      "outputs": [
        {
          "output_type": "stream",
          "text": [
            "AUC: 0.4942756444802663\n",
            "AUC scores computed using 5-fold cross-validation: [0.49998582 0.49998433 0.5        0.5        0.5       ]\n"
          ],
          "name": "stdout"
        }
      ]
    },
    {
      "cell_type": "code",
      "metadata": {
        "id": "DWWTw5Y078AZ",
        "colab_type": "code",
        "colab": {
          "base_uri": "https://localhost:8080/",
          "height": 1000
        },
        "outputId": "7ea73110-ca26-462c-d0d0-cd7242be2143"
      },
      "source": [
        "# Import necessary modules\n",
        "from sklearn.linear_model import LogisticRegression\n",
        "from sklearn.model_selection import GridSearchCV\n",
        "\n",
        "# Setup the hyperparameter grid\n",
        "c_space = np.logspace(-5, 8, 15)\n",
        "param_grid = {'C': c_space, 'penalty': ['l1', 'l2']}\n",
        "\n",
        "\n",
        "\n",
        "# Instantiate a logistic regression classifier: logreg\n",
        "logreg = LogisticRegression()\n",
        "\n",
        "# Instantiate the GridSearchCV object: logreg_cv\n",
        "logreg_cv = GridSearchCV(logreg, param_grid, cv=5)\n",
        "\n",
        "# Fit it to the data\n",
        "logreg_cv.fit(X, y)\n",
        "\n",
        "# Print the tuned parameter and score\n",
        "print(\"Tuned Logistic Regression Parameters: {}\".format(logreg_cv.best_params_))\n",
        "print(\"Best score is {}\".format(logreg_cv.best_score_))"
      ],
      "execution_count": 25,
      "outputs": [
        {
          "output_type": "stream",
          "text": [
            "/usr/local/lib/python3.6/dist-packages/sklearn/model_selection/_validation.py:536: FitFailedWarning: Estimator fit failed. The score on this train-test partition for these parameters will be set to nan. Details: \n",
            "ValueError: Solver lbfgs supports only 'l2' or 'none' penalties, got l1 penalty.\n",
            "\n",
            "  FitFailedWarning)\n",
            "/usr/local/lib/python3.6/dist-packages/sklearn/model_selection/_validation.py:536: FitFailedWarning: Estimator fit failed. The score on this train-test partition for these parameters will be set to nan. Details: \n",
            "ValueError: Solver lbfgs supports only 'l2' or 'none' penalties, got l1 penalty.\n",
            "\n",
            "  FitFailedWarning)\n",
            "/usr/local/lib/python3.6/dist-packages/sklearn/model_selection/_validation.py:536: FitFailedWarning: Estimator fit failed. The score on this train-test partition for these parameters will be set to nan. Details: \n",
            "ValueError: Solver lbfgs supports only 'l2' or 'none' penalties, got l1 penalty.\n",
            "\n",
            "  FitFailedWarning)\n",
            "/usr/local/lib/python3.6/dist-packages/sklearn/model_selection/_validation.py:536: FitFailedWarning: Estimator fit failed. The score on this train-test partition for these parameters will be set to nan. Details: \n",
            "ValueError: Solver lbfgs supports only 'l2' or 'none' penalties, got l1 penalty.\n",
            "\n",
            "  FitFailedWarning)\n",
            "/usr/local/lib/python3.6/dist-packages/sklearn/model_selection/_validation.py:536: FitFailedWarning: Estimator fit failed. The score on this train-test partition for these parameters will be set to nan. Details: \n",
            "ValueError: Solver lbfgs supports only 'l2' or 'none' penalties, got l1 penalty.\n",
            "\n",
            "  FitFailedWarning)\n",
            "/usr/local/lib/python3.6/dist-packages/sklearn/model_selection/_validation.py:536: FitFailedWarning: Estimator fit failed. The score on this train-test partition for these parameters will be set to nan. Details: \n",
            "ValueError: Solver lbfgs supports only 'l2' or 'none' penalties, got l1 penalty.\n",
            "\n",
            "  FitFailedWarning)\n",
            "/usr/local/lib/python3.6/dist-packages/sklearn/model_selection/_validation.py:536: FitFailedWarning: Estimator fit failed. The score on this train-test partition for these parameters will be set to nan. Details: \n",
            "ValueError: Solver lbfgs supports only 'l2' or 'none' penalties, got l1 penalty.\n",
            "\n",
            "  FitFailedWarning)\n",
            "/usr/local/lib/python3.6/dist-packages/sklearn/model_selection/_validation.py:536: FitFailedWarning: Estimator fit failed. The score on this train-test partition for these parameters will be set to nan. Details: \n",
            "ValueError: Solver lbfgs supports only 'l2' or 'none' penalties, got l1 penalty.\n",
            "\n",
            "  FitFailedWarning)\n",
            "/usr/local/lib/python3.6/dist-packages/sklearn/model_selection/_validation.py:536: FitFailedWarning: Estimator fit failed. The score on this train-test partition for these parameters will be set to nan. Details: \n",
            "ValueError: Solver lbfgs supports only 'l2' or 'none' penalties, got l1 penalty.\n",
            "\n",
            "  FitFailedWarning)\n",
            "/usr/local/lib/python3.6/dist-packages/sklearn/model_selection/_validation.py:536: FitFailedWarning: Estimator fit failed. The score on this train-test partition for these parameters will be set to nan. Details: \n",
            "ValueError: Solver lbfgs supports only 'l2' or 'none' penalties, got l1 penalty.\n",
            "\n",
            "  FitFailedWarning)\n",
            "/usr/local/lib/python3.6/dist-packages/sklearn/model_selection/_validation.py:536: FitFailedWarning: Estimator fit failed. The score on this train-test partition for these parameters will be set to nan. Details: \n",
            "ValueError: Solver lbfgs supports only 'l2' or 'none' penalties, got l1 penalty.\n",
            "\n",
            "  FitFailedWarning)\n",
            "/usr/local/lib/python3.6/dist-packages/sklearn/model_selection/_validation.py:536: FitFailedWarning: Estimator fit failed. The score on this train-test partition for these parameters will be set to nan. Details: \n",
            "ValueError: Solver lbfgs supports only 'l2' or 'none' penalties, got l1 penalty.\n",
            "\n",
            "  FitFailedWarning)\n",
            "/usr/local/lib/python3.6/dist-packages/sklearn/model_selection/_validation.py:536: FitFailedWarning: Estimator fit failed. The score on this train-test partition for these parameters will be set to nan. Details: \n",
            "ValueError: Solver lbfgs supports only 'l2' or 'none' penalties, got l1 penalty.\n",
            "\n",
            "  FitFailedWarning)\n",
            "/usr/local/lib/python3.6/dist-packages/sklearn/model_selection/_validation.py:536: FitFailedWarning: Estimator fit failed. The score on this train-test partition for these parameters will be set to nan. Details: \n",
            "ValueError: Solver lbfgs supports only 'l2' or 'none' penalties, got l1 penalty.\n",
            "\n",
            "  FitFailedWarning)\n",
            "/usr/local/lib/python3.6/dist-packages/sklearn/model_selection/_validation.py:536: FitFailedWarning: Estimator fit failed. The score on this train-test partition for these parameters will be set to nan. Details: \n",
            "ValueError: Solver lbfgs supports only 'l2' or 'none' penalties, got l1 penalty.\n",
            "\n",
            "  FitFailedWarning)\n"
          ],
          "name": "stderr"
        },
        {
          "output_type": "stream",
          "text": [
            "Tuned Logistic Regression Parameters: {'C': 1e-05, 'penalty': 'l2'}\n",
            "Best score is 0.49999390559770857\n"
          ],
          "name": "stdout"
        }
      ]
    },
    {
      "cell_type": "code",
      "metadata": {
        "id": "DIlnYWkPHEkR",
        "colab_type": "code",
        "colab": {
          "base_uri": "https://localhost:8080/",
          "height": 258
        },
        "outputId": "d17bcd68-c1e2-450d-f421-ed777f713e63"
      },
      "source": [
        "# Import necessary modules\n",
        "from sklearn.linear_model import ElasticNet\n",
        "from sklearn.metrics import mean_squared_error\n",
        "from sklearn.model_selection import GridSearchCV\n",
        "from sklearn.model_selection import train_test_split\n",
        "\n",
        "# Create train and test sets\n",
        "X_train, X_test, y_train, y_test = train_test_split(X, y, test_size = 0.4, random_state=42)\n",
        "\n",
        "# Create the hyperparameter grid\n",
        "l1_space = np.linspace(0, 1, 30)\n",
        "param_grid = {'l1_ratio': l1_space}\n",
        "\n",
        "# Instantiate the ElasticNet regressor: elastic_net\n",
        "elastic_net = ElasticNet()\n",
        "\n",
        "# Setup the GridSearchCV object: gm_cv\n",
        "gm_cv = GridSearchCV(elastic_net, param_grid, cv=5)\n",
        "\n",
        "# Fit it to the training data\n",
        "gm_cv.fit(X_train, y_train)\n",
        "\n",
        "# Predict on the test set and compute metrics\n",
        "y_pred = gm_cv.predict(X_test)\n",
        "r2 = gm_cv.score(X_test, y_test)\n",
        "mse = mean_squared_error(y_test, y_pred)\n",
        "print(\"Tuned ElasticNet l1 ratio: {}\".format(gm_cv.best_params_))\n",
        "print(\"Tuned ElasticNet R squared: {}\".format(r2))\n",
        "print(\"Tuned ElasticNet MSE: {}\".format(mse))"
      ],
      "execution_count": 26,
      "outputs": [
        {
          "output_type": "stream",
          "text": [
            "/usr/local/lib/python3.6/dist-packages/sklearn/linear_model/_coordinate_descent.py:476: ConvergenceWarning: Objective did not converge. You might want to increase the number of iterations. Duality gap: 9844.777826942964, tolerance: 1.968974298810244\n",
            "  positive)\n",
            "/usr/local/lib/python3.6/dist-packages/sklearn/linear_model/_coordinate_descent.py:476: ConvergenceWarning: Objective did not converge. You might want to increase the number of iterations. Duality gap: 9844.768945466616, tolerance: 1.9689737401440188\n",
            "  positive)\n",
            "/usr/local/lib/python3.6/dist-packages/sklearn/linear_model/_coordinate_descent.py:476: ConvergenceWarning: Objective did not converge. You might want to increase the number of iterations. Duality gap: 9844.786480770568, tolerance: 1.9689675694205713\n",
            "  positive)\n",
            "/usr/local/lib/python3.6/dist-packages/sklearn/linear_model/_coordinate_descent.py:476: ConvergenceWarning: Objective did not converge. You might want to increase the number of iterations. Duality gap: 9844.835433926331, tolerance: 1.96897499968266\n",
            "  positive)\n",
            "/usr/local/lib/python3.6/dist-packages/sklearn/linear_model/_coordinate_descent.py:476: ConvergenceWarning: Objective did not converge. You might want to increase the number of iterations. Duality gap: 9844.707081393897, tolerance: 1.968992858049712\n",
            "  positive)\n"
          ],
          "name": "stderr"
        },
        {
          "output_type": "stream",
          "text": [
            "Tuned ElasticNet l1 ratio: {'l1_ratio': 0.034482758620689655}\n",
            "Tuned ElasticNet R squared: -5.8035971584047275e-09\n",
            "Tuned ElasticNet MSE: 0.2500000009285777\n"
          ],
          "name": "stdout"
        }
      ]
    },
    {
      "cell_type": "code",
      "metadata": {
        "id": "_d5yBKC79650",
        "colab_type": "code",
        "colab": {}
      },
      "source": [
        ""
      ],
      "execution_count": 0,
      "outputs": []
    }
  ]
}
